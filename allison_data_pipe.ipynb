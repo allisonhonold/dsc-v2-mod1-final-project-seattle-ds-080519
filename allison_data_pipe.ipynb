{
 "cells": [
  {
   "cell_type": "code",
   "execution_count": 30,
   "metadata": {},
   "outputs": [],
   "source": [
    "#import libraries\n",
    "import pandas as pd\n",
    "import numpy as np\n",
    "import matplotlib.pyplot as plt\n",
    "%matplotlib inline\n",
    "import seaborn as sns\n",
    "from sklearn_pandas import DataFrameMapper, cross_val_score\n",
    "from sklearn_pandas.pipeline import Pipeline\n",
    "from sklearn.model_selection import train_test_split\n",
    "from sklearn.preprocessing import StandardScaler, OneHotEncoder\n",
    "from sklearn.base import BaseEstimator, TransformerMixin\n",
    "from haversine import haversine\n",
    "from sklearn.linear_model import LinearRegression\n",
    "from statsmodels.regression.linear_model import OLS\n",
    "import statsmodels.api as sm"
   ]
  },
  {
   "cell_type": "code",
   "execution_count": 3,
   "metadata": {},
   "outputs": [],
   "source": [
    "#load data\n",
    "df = pd.read_csv(\"kc_house_data.csv\")"
   ]
  },
  {
   "cell_type": "code",
   "execution_count": 6,
   "metadata": {},
   "outputs": [],
   "source": [
    "#train-test split\n",
    "y = np.log(df['price'])\n",
    "X = df.drop(columns=['price', 'id', 'date'])\n",
    "X['log_sqft_living']= np.log(X['sqft_living'].astype(np.float32))\n",
    "X['sqft_lot']= X['sqft_lot'].astype(np.float32)\n",
    "X = X.drop(columns=['sqft_living','sqft_lot'])\n",
    "X['distance_from_billgates']=X.apply(lambda row: dist_from_bill(row['lat'], row['long']), axis=1)\n",
    "X = X.drop(columns=['sqft_above', 'sqft_basement', 'yr_built', 'yr_renovated', 'lat', 'long', \n",
    "                    'sqft_living15', 'sqft_lot15', 'zipcode'])\n",
    "# X = X.drop(columns=['waterfront'])\n",
    "\n",
    "X_train, X_test, y_train, y_test = train_test_split(X, y, test_size=.2, random_state=30)"
   ]
  },
  {
   "cell_type": "code",
   "execution_count": 7,
   "metadata": {
    "scrolled": true
   },
   "outputs": [
    {
     "name": "stdout",
     "output_type": "stream",
     "text": [
      "<class 'pandas.core.frame.DataFrame'>\n",
      "Int64Index: 17277 entries, 11632 to 5925\n",
      "Data columns (total 9 columns):\n",
      "bedrooms                   17277 non-null int64\n",
      "bathrooms                  17277 non-null float64\n",
      "floors                     17277 non-null float64\n",
      "waterfront                 15333 non-null float64\n",
      "view                       17233 non-null float64\n",
      "condition                  17277 non-null int64\n",
      "grade                      17277 non-null int64\n",
      "log_sqft_living            17277 non-null float32\n",
      "distance_from_billgates    17277 non-null float64\n",
      "dtypes: float32(1), float64(5), int64(3)\n",
      "memory usage: 1.3 MB\n"
     ]
    }
   ],
   "source": [
    "X_train.info()"
   ]
  },
  {
   "cell_type": "code",
   "execution_count": 4,
   "metadata": {},
   "outputs": [],
   "source": [
    "# Create transformers\n",
    "\n",
    "class CategoryCleaner(BaseEstimator, TransformerMixin):\n",
    "    def fit(self, X, y):\n",
    "        pass\n",
    "    \n",
    "    def transform(self, X):\n",
    "        return np.array([(value if value in (1, 2, 3, 4) else 0) for value in X],\n",
    "                       dtype=np.uint8)\n",
    "\n",
    "class IntConverter(BaseEstimator, TransformerMixin):\n",
    "    def fit(self, X, y):\n",
    "        pass\n",
    "    \n",
    "    def transform(self, X):\n",
    "        return X.astype(np.uint8)"
   ]
  },
  {
   "cell_type": "code",
   "execution_count": 8,
   "metadata": {},
   "outputs": [],
   "source": [
    "mapper = DataFrameMapper([\n",
    "    (['log_sqft_living'], StandardScaler()),\n",
    "    (['distance_from_billgates'], StandardScaler()),\n",
    "    (['condition'], StandardScaler()),\n",
    "    (['grade'], StandardScaler()),\n",
    "    (['floors'], StandardScaler()),\n",
    "   # (['zipcode'], OneHotEncoder(categories='auto', dtype=np.uint8)),\n",
    "#     (['floors'], OneHotEncoder(categories='auto', dtype=np.uint8)),\n",
    "    (['waterfront'], CategoryCleaner()),\n",
    "    (['view'], CategoryCleaner()),\n",
    "    (['bedrooms'], IntConverter()),\n",
    "    (['bathrooms'], IntConverter())\n",
    "    ], df_out=True)\n",
    "\n",
    "mapper.fit(X_train)\n",
    "X_train_clean = mapper.transform(X_train)\n",
    "X_test_clean = mapper.transform(X_test)"
   ]
  },
  {
   "cell_type": "code",
   "execution_count": null,
   "metadata": {},
   "outputs": [],
   "source": []
  },
  {
   "cell_type": "code",
   "execution_count": 9,
   "metadata": {},
   "outputs": [],
   "source": [
    "lr=LinearRegression()\n",
    "lr.fit(X_train_clean,y_train)\n",
    "y_pred=lr.predict(X_test_clean)"
   ]
  },
  {
   "cell_type": "code",
   "execution_count": 10,
   "metadata": {},
   "outputs": [
    {
     "data": {
      "text/plain": [
       "0.7711365753812796"
      ]
     },
     "execution_count": 10,
     "metadata": {},
     "output_type": "execute_result"
    }
   ],
   "source": [
    "lr.score(X_train_clean, y_train)"
   ]
  },
  {
   "cell_type": "code",
   "execution_count": 11,
   "metadata": {},
   "outputs": [
    {
     "data": {
      "text/plain": [
       "0.764018477563301"
      ]
     },
     "execution_count": 11,
     "metadata": {},
     "output_type": "execute_result"
    }
   ],
   "source": [
    "lr.score(X_test_clean, y_test)"
   ]
  },
  {
   "cell_type": "code",
   "execution_count": 12,
   "metadata": {},
   "outputs": [
    {
     "data": {
      "text/plain": [
       "[(-0.22936903113659712, 'distance_from_billgates'),\n",
       " (-0.04005897963199018, 'bedrooms'),\n",
       " (0.006982293549336568, 'floors'),\n",
       " (0.024835032368500234, 'bathrooms'),\n",
       " (0.04679076884408008, 'condition'),\n",
       " (0.07688427234907279, 'view'),\n",
       " (0.1754086539114694, 'grade'),\n",
       " (0.21376423748935275, 'log_sqft_living'),\n",
       " (0.40233928795086515, 'waterfront')]"
      ]
     },
     "execution_count": 12,
     "metadata": {},
     "output_type": "execute_result"
    }
   ],
   "source": [
    "coef = lr.coef_.tolist()\n",
    "zip_coef = list(zip(coef, X_train_clean.columns))\n",
    "zip_coef.sort()\n",
    "zip_coef"
   ]
  },
  {
   "cell_type": "code",
   "execution_count": null,
   "metadata": {},
   "outputs": [],
   "source": [
    "# transform data"
   ]
  },
  {
   "cell_type": "code",
   "execution_count": 5,
   "metadata": {},
   "outputs": [],
   "source": [
    "def dist_from_bill(lat, long):\n",
    "    \"\"\"returns a km distance from Bill and Melinda Gates' Medina residence\"\"\"\n",
    "    gates_lat = 47.62774\n",
    "    gates_long = -122.24194\n",
    "    return haversine((lat, long), (gates_lat, gates_long))"
   ]
  },
  {
   "cell_type": "code",
   "execution_count": 23,
   "metadata": {},
   "outputs": [
    {
     "data": {
      "text/plain": [
       "12329.845149186951"
      ]
     },
     "execution_count": 23,
     "metadata": {},
     "output_type": "execute_result"
    }
   ],
   "source": [
    "dist_from_bill(1,1)"
   ]
  },
  {
   "cell_type": "markdown",
   "metadata": {},
   "source": [
    "Graphs of distance from bill gates vs log price and waterfront vs log price"
   ]
  },
  {
   "cell_type": "code",
   "execution_count": 16,
   "metadata": {},
   "outputs": [
    {
     "data": {
      "text/plain": [
       "[]"
      ]
     },
     "execution_count": 16,
     "metadata": {},
     "output_type": "execute_result"
    },
    {
     "data": {
      "image/png": "[encoded data removed]",
      "text/plain": [
       "<Figure size 432x288 with 1 Axes>"
      ]
     },
     "metadata": {
      "needs_background": "light"
     },
     "output_type": "display_data"
    }
   ],
   "source": [
    "plt.scatter(X['distance_from_billgates'],y)\n",
    "plt.title(\"Distance from Bill and Melinda Gates' Medina home vs. natural log of home price\",\n",
    "         fontsize='large')\n",
    "plt.xlabel(\"Distance from Gates' house / km\", fontsize='large')\n",
    "plt.ylabel(\"Log(Price / $)\")\n",
    "plt.plot()"
   ]
  },
  {
   "cell_type": "code",
   "execution_count": 31,
   "metadata": {},
   "outputs": [
    {
     "name": "stderr",
     "output_type": "stream",
     "text": [
      "//anaconda3/envs/learn-env/lib/python3.6/site-packages/scipy/stats/stats.py:1713: FutureWarning: Using a non-tuple sequence for multidimensional indexing is deprecated; use `arr[tuple(seq)]` instead of `arr[seq]`. In the future this will be interpreted as an array index, `arr[np.array(seq)]`, which will result either in an error or a different result.\n",
      "  return np.add.reduce(sorted[indexer] * weights, axis=axis) / sumval\n"
     ]
    },
    {
     "data": {
      "text/plain": [
       "<matplotlib.axes._subplots.AxesSubplot at 0x1a1a7c5be0>"
      ]
     },
     "execution_count": 31,
     "metadata": {},
     "output_type": "execute_result"
    },
    {
     "data": {
      "image/png": "[encoded data removed]",
      "text/plain": [
       "<Figure size 432x288 with 1 Axes>"
      ]
     },
     "metadata": {
      "needs_background": "light"
     },
     "output_type": "display_data"
    }
   ],
   "source": [
    "sns.regplot(X['distance_from_billgates'],y)"
   ]
  },
  {
   "cell_type": "code",
   "execution_count": 32,
   "metadata": {},
   "outputs": [
    {
     "data": {
      "text/plain": [
       "const                      13.493377\n",
       "distance_from_billgates    -0.025415\n",
       "dtype: float64"
      ]
     },
     "execution_count": 32,
     "metadata": {},
     "output_type": "execute_result"
    }
   ],
   "source": [
    "X2 = sm.add_constant(X['distance_from_billgates'])\n",
    "model = sm.OLS(y,X2)\n",
    "results = model.fit()\n",
    "results.params"
   ]
  },
  {
   "cell_type": "code",
   "execution_count": 34,
   "metadata": {},
   "outputs": [
    {
     "data": {
      "text/html": [
       "<table class=\"simpletable\">\n",
       "<caption>OLS Regression Results</caption>\n",
       "<tr>\n",
       "  <th>Dep. Variable:</th>          <td>price</td>      <th>  R-squared:         </th> <td>   0.240</td> \n",
       "</tr>\n",
       "<tr>\n",
       "  <th>Model:</th>                   <td>OLS</td>       <th>  Adj. R-squared:    </th> <td>   0.240</td> \n",
       "</tr>\n",
       "<tr>\n",
       "  <th>Method:</th>             <td>Least Squares</td>  <th>  F-statistic:       </th> <td>   6810.</td> \n",
       "</tr>\n",
       "<tr>\n",
       "  <th>Date:</th>             <td>Thu, 22 Aug 2019</td> <th>  Prob (F-statistic):</th>  <td>  0.00</td>  \n",
       "</tr>\n",
       "<tr>\n",
       "  <th>Time:</th>                 <td>22:24:01</td>     <th>  Log-Likelihood:    </th> <td> -13832.</td> \n",
       "</tr>\n",
       "<tr>\n",
       "  <th>No. Observations:</th>      <td> 21597</td>      <th>  AIC:               </th> <td>2.767e+04</td>\n",
       "</tr>\n",
       "<tr>\n",
       "  <th>Df Residuals:</th>          <td> 21595</td>      <th>  BIC:               </th> <td>2.768e+04</td>\n",
       "</tr>\n",
       "<tr>\n",
       "  <th>Df Model:</th>              <td>     1</td>      <th>                     </th>     <td> </td>    \n",
       "</tr>\n",
       "<tr>\n",
       "  <th>Covariance Type:</th>      <td>nonrobust</td>    <th>                     </th>     <td> </td>    \n",
       "</tr>\n",
       "</table>\n",
       "<table class=\"simpletable\">\n",
       "<tr>\n",
       "             <td></td>                <th>coef</th>     <th>std err</th>      <th>t</th>      <th>P>|t|</th>  <th>[0.025</th>    <th>0.975]</th>  \n",
       "</tr>\n",
       "<tr>\n",
       "  <th>const</th>                   <td>   13.4934</td> <td>    0.006</td> <td> 2164.543</td> <td> 0.000</td> <td>   13.481</td> <td>   13.506</td>\n",
       "</tr>\n",
       "<tr>\n",
       "  <th>distance_from_billgates</th> <td>   -0.0254</td> <td>    0.000</td> <td>  -82.523</td> <td> 0.000</td> <td>   -0.026</td> <td>   -0.025</td>\n",
       "</tr>\n",
       "</table>\n",
       "<table class=\"simpletable\">\n",
       "<tr>\n",
       "  <th>Omnibus:</th>       <td>848.015</td> <th>  Durbin-Watson:     </th> <td>   1.959</td> \n",
       "</tr>\n",
       "<tr>\n",
       "  <th>Prob(Omnibus):</th> <td> 0.000</td>  <th>  Jarque-Bera (JB):  </th> <td>1324.252</td> \n",
       "</tr>\n",
       "<tr>\n",
       "  <th>Skew:</th>          <td> 0.363</td>  <th>  Prob(JB):          </th> <td>2.77e-288</td>\n",
       "</tr>\n",
       "<tr>\n",
       "  <th>Kurtosis:</th>      <td> 3.972</td>  <th>  Cond. No.          </th> <td>    40.5</td> \n",
       "</tr>\n",
       "</table><br/><br/>Warnings:<br/>[1] Standard Errors assume that the covariance matrix of the errors is correctly specified."
      ],
      "text/plain": [
       "<class 'statsmodels.iolib.summary.Summary'>\n",
       "\"\"\"\n",
       "                            OLS Regression Results                            \n",
       "==============================================================================\n",
       "Dep. Variable:                  price   R-squared:                       0.240\n",
       "Model:                            OLS   Adj. R-squared:                  0.240\n",
       "Method:                 Least Squares   F-statistic:                     6810.\n",
       "Date:                Thu, 22 Aug 2019   Prob (F-statistic):               0.00\n",
       "Time:                        22:24:01   Log-Likelihood:                -13832.\n",
       "No. Observations:               21597   AIC:                         2.767e+04\n",
       "Df Residuals:                   21595   BIC:                         2.768e+04\n",
       "Df Model:                           1                                         \n",
       "Covariance Type:            nonrobust                                         \n",
       "===========================================================================================\n",
       "                              coef    std err          t      P>|t|      [0.025      0.975]\n",
       "-------------------------------------------------------------------------------------------\n",
       "const                      13.4934      0.006   2164.543      0.000      13.481      13.506\n",
       "distance_from_billgates    -0.0254      0.000    -82.523      0.000      -0.026      -0.025\n",
       "==============================================================================\n",
       "Omnibus:                      848.015   Durbin-Watson:                   1.959\n",
       "Prob(Omnibus):                  0.000   Jarque-Bera (JB):             1324.252\n",
       "Skew:                           0.363   Prob(JB):                    2.77e-288\n",
       "Kurtosis:                       3.972   Cond. No.                         40.5\n",
       "==============================================================================\n",
       "\n",
       "Warnings:\n",
       "[1] Standard Errors assume that the covariance matrix of the errors is correctly specified.\n",
       "\"\"\""
      ]
     },
     "execution_count": 34,
     "metadata": {},
     "output_type": "execute_result"
    }
   ],
   "source": [
    "results.summary()"
   ]
  },
  {
   "cell_type": "code",
   "execution_count": 47,
   "metadata": {},
   "outputs": [
    {
     "name": "stderr",
     "output_type": "stream",
     "text": [
      "//anaconda3/envs/learn-env/lib/python3.6/site-packages/scipy/stats/stats.py:1713: FutureWarning: Using a non-tuple sequence for multidimensional indexing is deprecated; use `arr[tuple(seq)]` instead of `arr[seq]`. In the future this will be interpreted as an array index, `arr[np.array(seq)]`, which will result either in an error or a different result.\n",
      "  return np.add.reduce(sorted[indexer] * weights, axis=axis) / sumval\n"
     ]
    },
    {
     "data": {
      "text/plain": [
       "<matplotlib.axes._subplots.AxesSubplot at 0x1c1c868668>"
      ]
     },
     "execution_count": 47,
     "metadata": {},
     "output_type": "execute_result"
    },
    {
     "data": {
      "image/png": "[encoded data removed]",
      "text/plain": [
       "<Figure size 432x288 with 1 Axes>"
      ]
     },
     "metadata": {
      "needs_background": "light"
     },
     "output_type": "display_data"
    }
   ],
   "source": [
    "sns.regplot(waterfront_1_df['waterfront'],y3)"
   ]
  },
  {
   "cell_type": "code",
   "execution_count": 45,
   "metadata": {},
   "outputs": [
    {
     "data": {
      "text/plain": [
       "const         13.041237\n",
       "waterfront     1.096569\n",
       "dtype: float64"
      ]
     },
     "execution_count": 45,
     "metadata": {},
     "output_type": "execute_result"
    }
   ],
   "source": [
    "waterfront_1_df = df[(df['waterfront']==1)|(df['waterfront']==0)]\n",
    "y3 = np.log(waterfront_1_df['price'])\n",
    "\n",
    "X3 = sm.add_constant(waterfront_1_df['waterfront'])\n",
    "model = sm.OLS(y3,X3)\n",
    "results = model.fit()\n",
    "results.params"
   ]
  },
  {
   "cell_type": "code",
   "execution_count": 44,
   "metadata": {},
   "outputs": [
    {
     "name": "stdout",
     "output_type": "stream",
     "text": [
      "<class 'pandas.core.frame.DataFrame'>\n",
      "Int64Index: 19221 entries, 1 to 21596\n",
      "Data columns (total 21 columns):\n",
      "id               19221 non-null int64\n",
      "date             19221 non-null object\n",
      "price            19221 non-null float64\n",
      "bedrooms         19221 non-null int64\n",
      "bathrooms        19221 non-null float64\n",
      "sqft_living      19221 non-null int64\n",
      "sqft_lot         19221 non-null int64\n",
      "floors           19221 non-null float64\n",
      "waterfront       19221 non-null float64\n",
      "view             19164 non-null float64\n",
      "condition        19221 non-null int64\n",
      "grade            19221 non-null int64\n",
      "sqft_above       19221 non-null int64\n",
      "sqft_basement    19221 non-null object\n",
      "yr_built         19221 non-null int64\n",
      "yr_renovated     15809 non-null float64\n",
      "zipcode          19221 non-null int64\n",
      "lat              19221 non-null float64\n",
      "long             19221 non-null float64\n",
      "sqft_living15    19221 non-null int64\n",
      "sqft_lot15       19221 non-null int64\n",
      "dtypes: float64(8), int64(11), object(2)\n",
      "memory usage: 3.2+ MB\n"
     ]
    }
   ],
   "source": [
    "waterfront_1_df.info()"
   ]
  },
  {
   "cell_type": "code",
   "execution_count": 48,
   "metadata": {},
   "outputs": [
    {
     "data": {
      "text/html": [
       "<table class=\"simpletable\">\n",
       "<caption>OLS Regression Results</caption>\n",
       "<tr>\n",
       "  <th>Dep. Variable:</th>          <td>price</td>      <th>  R-squared:         </th> <td>   0.033</td> \n",
       "</tr>\n",
       "<tr>\n",
       "  <th>Model:</th>                   <td>OLS</td>       <th>  Adj. R-squared:    </th> <td>   0.033</td> \n",
       "</tr>\n",
       "<tr>\n",
       "  <th>Method:</th>             <td>Least Squares</td>  <th>  F-statistic:       </th> <td>   647.4</td> \n",
       "</tr>\n",
       "<tr>\n",
       "  <th>Date:</th>             <td>Thu, 22 Aug 2019</td> <th>  Prob (F-statistic):</th> <td>1.71e-140</td>\n",
       "</tr>\n",
       "<tr>\n",
       "  <th>Time:</th>                 <td>22:34:33</td>     <th>  Log-Likelihood:    </th> <td> -14657.</td> \n",
       "</tr>\n",
       "<tr>\n",
       "  <th>No. Observations:</th>      <td> 19221</td>      <th>  AIC:               </th> <td>2.932e+04</td>\n",
       "</tr>\n",
       "<tr>\n",
       "  <th>Df Residuals:</th>          <td> 19219</td>      <th>  BIC:               </th> <td>2.933e+04</td>\n",
       "</tr>\n",
       "<tr>\n",
       "  <th>Df Model:</th>              <td>     1</td>      <th>                     </th>     <td> </td>    \n",
       "</tr>\n",
       "<tr>\n",
       "  <th>Covariance Type:</th>      <td>nonrobust</td>    <th>                     </th>     <td> </td>    \n",
       "</tr>\n",
       "</table>\n",
       "<table class=\"simpletable\">\n",
       "<tr>\n",
       "       <td></td>         <th>coef</th>     <th>std err</th>      <th>t</th>      <th>P>|t|</th>  <th>[0.025</th>    <th>0.975]</th>  \n",
       "</tr>\n",
       "<tr>\n",
       "  <th>const</th>      <td>   13.0412</td> <td>    0.004</td> <td> 3472.081</td> <td> 0.000</td> <td>   13.034</td> <td>   13.049</td>\n",
       "</tr>\n",
       "<tr>\n",
       "  <th>waterfront</th> <td>    1.0966</td> <td>    0.043</td> <td>   25.445</td> <td> 0.000</td> <td>    1.012</td> <td>    1.181</td>\n",
       "</tr>\n",
       "</table>\n",
       "<table class=\"simpletable\">\n",
       "<tr>\n",
       "  <th>Omnibus:</th>       <td>552.767</td> <th>  Durbin-Watson:     </th> <td>   1.967</td> \n",
       "</tr>\n",
       "<tr>\n",
       "  <th>Prob(Omnibus):</th> <td> 0.000</td>  <th>  Jarque-Bera (JB):  </th> <td> 662.911</td> \n",
       "</tr>\n",
       "<tr>\n",
       "  <th>Skew:</th>          <td> 0.367</td>  <th>  Prob(JB):          </th> <td>1.12e-144</td>\n",
       "</tr>\n",
       "<tr>\n",
       "  <th>Kurtosis:</th>      <td> 3.537</td>  <th>  Cond. No.          </th> <td>    11.5</td> \n",
       "</tr>\n",
       "</table><br/><br/>Warnings:<br/>[1] Standard Errors assume that the covariance matrix of the errors is correctly specified."
      ],
      "text/plain": [
       "<class 'statsmodels.iolib.summary.Summary'>\n",
       "\"\"\"\n",
       "                            OLS Regression Results                            \n",
       "==============================================================================\n",
       "Dep. Variable:                  price   R-squared:                       0.033\n",
       "Model:                            OLS   Adj. R-squared:                  0.033\n",
       "Method:                 Least Squares   F-statistic:                     647.4\n",
       "Date:                Thu, 22 Aug 2019   Prob (F-statistic):          1.71e-140\n",
       "Time:                        22:34:33   Log-Likelihood:                -14657.\n",
       "No. Observations:               19221   AIC:                         2.932e+04\n",
       "Df Residuals:                   19219   BIC:                         2.933e+04\n",
       "Df Model:                           1                                         \n",
       "Covariance Type:            nonrobust                                         \n",
       "==============================================================================\n",
       "                 coef    std err          t      P>|t|      [0.025      0.975]\n",
       "------------------------------------------------------------------------------\n",
       "const         13.0412      0.004   3472.081      0.000      13.034      13.049\n",
       "waterfront     1.0966      0.043     25.445      0.000       1.012       1.181\n",
       "==============================================================================\n",
       "Omnibus:                      552.767   Durbin-Watson:                   1.967\n",
       "Prob(Omnibus):                  0.000   Jarque-Bera (JB):              662.911\n",
       "Skew:                           0.367   Prob(JB):                    1.12e-144\n",
       "Kurtosis:                       3.537   Cond. No.                         11.5\n",
       "==============================================================================\n",
       "\n",
       "Warnings:\n",
       "[1] Standard Errors assume that the covariance matrix of the errors is correctly specified.\n",
       "\"\"\""
      ]
     },
     "execution_count": 48,
     "metadata": {},
     "output_type": "execute_result"
    }
   ],
   "source": [
    "results.summary()"
   ]
  },
  {
   "cell_type": "code",
   "execution_count": null,
   "metadata": {},
   "outputs": [],
   "source": []
  }
 ],
 "metadata": {
  "kernelspec": {
   "display_name": "Python [conda env:learn-env] *",
   "language": "python",
   "name": "conda-env-learn-env-py"
  },
  "language_info": {
   "codemirror_mode": {
    "name": "ipython",
    "version": 3
   },
   "file_extension": ".py",
   "mimetype": "text/x-python",
   "name": "python",
   "nbconvert_exporter": "python",
   "pygments_lexer": "ipython3",
   "version": "3.6.6"
  }
 },
 "nbformat": 4,
 "nbformat_minor": 2
}
