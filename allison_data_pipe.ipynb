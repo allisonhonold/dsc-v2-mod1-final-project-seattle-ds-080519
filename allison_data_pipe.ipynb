{
 "cells": [
  {
   "cell_type": "code",
   "execution_count": 38,
   "metadata": {},
   "outputs": [],
   "source": [
    "#import libraries\n",
    "import pandas as pd\n",
    "import numpy as np\n",
    "import matplotlib.pyplot as plt\n",
    "%matplotlib inline\n",
    "import seaborn as sns\n",
    "from sklearn_pandas import DataFrameMapper, cross_val_score\n",
    "from sklearn_pandas.pipeline import Pipeline\n",
    "from sklearn.model_selection import train_test_split\n",
    "from sklearn.preprocessing import StandardScaler, OneHotEncoder\n",
    "from sklearn.base import BaseEstimator, TransformerMixin\n",
    "from haversine import haversine\n",
    "from sklearn.linear_model import LinearRegression"
   ]
  },
  {
   "cell_type": "code",
   "execution_count": 65,
   "metadata": {},
   "outputs": [],
   "source": [
    "#load data\n",
    "df = pd.read_csv(\"kc_house_data.csv\")"
   ]
  },
  {
   "cell_type": "code",
   "execution_count": 78,
   "metadata": {},
   "outputs": [],
   "source": [
    "#train-test split\n",
    "y = np.log(df['price'])\n",
    "X = df.drop(columns=['price', 'id', 'date'])\n",
    "X['log_sqft_living']= np.log(X['sqft_living'].astype(np.float32))\n",
    "X['sqft_lot']= X['sqft_lot'].astype(np.float32)\n",
    "X = X.drop(columns=['sqft_living','sqft_lot'])\n",
    "X['distance_from_billgates']=X.apply(lambda row: dist_from_bill(row['lat'], row['long']), axis=1)\n",
    "X = X.drop(columns=['sqft_above', 'sqft_basement', 'yr_built', 'yr_renovated', 'lat', 'long', \n",
    "                    'sqft_living15', 'sqft_lot15', 'zipcode'])\n",
    "# X = X.drop(columns=['waterfront'])\n",
    "\n",
    "X_train, X_test, y_train, y_test = train_test_split(X, y, test_size=.2, random_state=30)"
   ]
  },
  {
   "cell_type": "code",
   "execution_count": 79,
   "metadata": {
    "scrolled": true
   },
   "outputs": [
    {
     "name": "stdout",
     "output_type": "stream",
     "text": [
      "<class 'pandas.core.frame.DataFrame'>\n",
      "Int64Index: 17277 entries, 11632 to 5925\n",
      "Data columns (total 9 columns):\n",
      "bedrooms                   17277 non-null int64\n",
      "bathrooms                  17277 non-null float64\n",
      "floors                     17277 non-null float64\n",
      "waterfront                 15333 non-null float64\n",
      "view                       17233 non-null float64\n",
      "condition                  17277 non-null int64\n",
      "grade                      17277 non-null int64\n",
      "log_sqft_living            17277 non-null float32\n",
      "distance_from_billgates    17277 non-null float64\n",
      "dtypes: float32(1), float64(5), int64(3)\n",
      "memory usage: 1.3 MB\n"
     ]
    }
   ],
   "source": [
    "X_train.info()"
   ]
  },
  {
   "cell_type": "code",
   "execution_count": 80,
   "metadata": {},
   "outputs": [],
   "source": [
    "# Create transformers\n",
    "\n",
    "class CategoryCleaner(BaseEstimator, TransformerMixin):\n",
    "    def fit(self, X, y):\n",
    "        pass\n",
    "    \n",
    "    def transform(self, X):\n",
    "        return np.array([(value if value in (1, 2, 3, 4) else 0) for value in X],\n",
    "                       dtype=np.uint8)\n",
    "\n",
    "class IntConverter(BaseEstimator, TransformerMixin):\n",
    "    def fit(self, X, y):\n",
    "        pass\n",
    "    \n",
    "    def transform(self, X):\n",
    "        return X.astype(np.uint8)"
   ]
  },
  {
   "cell_type": "code",
   "execution_count": 81,
   "metadata": {},
   "outputs": [],
   "source": [
    "mapper = DataFrameMapper([\n",
    "    (['log_sqft_living'], StandardScaler()),\n",
    "    (['distance_from_billgates'], StandardScaler()),\n",
    "    (['condition'], StandardScaler()),\n",
    "    (['grade'], StandardScaler()),\n",
    "    (['floors'], StandardScaler()),\n",
    "   # (['zipcode'], OneHotEncoder(categories='auto', dtype=np.uint8)),\n",
    "#     (['floors'], OneHotEncoder(categories='auto', dtype=np.uint8)),\n",
    "    (['waterfront'], CategoryCleaner()),\n",
    "    (['view'], CategoryCleaner()),\n",
    "    (['bedrooms'], IntConverter()),\n",
    "    (['bathrooms'], IntConverter())\n",
    "    ], df_out=True)\n",
    "\n",
    "mapper.fit(X_train)\n",
    "X_train_clean = mapper.transform(X_train)\n",
    "X_test_clean = mapper.transform(X_test)"
   ]
  },
  {
   "cell_type": "code",
   "execution_count": null,
   "metadata": {},
   "outputs": [],
   "source": []
  },
  {
   "cell_type": "code",
   "execution_count": 82,
   "metadata": {},
   "outputs": [],
   "source": [
    "lr=LinearRegression()\n",
    "lr.fit(X_train_clean,y_train)\n",
    "y_pred=lr.predict(X_test_clean)"
   ]
  },
  {
   "cell_type": "code",
   "execution_count": 83,
   "metadata": {},
   "outputs": [
    {
     "data": {
      "text/plain": [
       "0.7711365753812796"
      ]
     },
     "execution_count": 83,
     "metadata": {},
     "output_type": "execute_result"
    }
   ],
   "source": [
    "lr.score(X_train_clean, y_train)"
   ]
  },
  {
   "cell_type": "code",
   "execution_count": 84,
   "metadata": {},
   "outputs": [
    {
     "data": {
      "text/plain": [
       "0.764018477563301"
      ]
     },
     "execution_count": 84,
     "metadata": {},
     "output_type": "execute_result"
    }
   ],
   "source": [
    "lr.score(X_test_clean, y_test)"
   ]
  },
  {
   "cell_type": "code",
   "execution_count": 85,
   "metadata": {},
   "outputs": [
    {
     "data": {
      "text/plain": [
       "[(-0.22936903113659712, 'distance_from_billgates'),\n",
       " (-0.04005897963199018, 'bedrooms'),\n",
       " (0.006982293549336568, 'floors'),\n",
       " (0.024835032368500234, 'bathrooms'),\n",
       " (0.04679076884408008, 'condition'),\n",
       " (0.07688427234907279, 'view'),\n",
       " (0.1754086539114694, 'grade'),\n",
       " (0.21376423748935275, 'log_sqft_living'),\n",
       " (0.40233928795086515, 'waterfront')]"
      ]
     },
     "execution_count": 85,
     "metadata": {},
     "output_type": "execute_result"
    }
   ],
   "source": [
    "coef = lr.coef_.tolist()\n",
    "zip_coef = list(zip(coef, X_train_clean.columns))\n",
    "zip_coef.sort()\n",
    "zip_coef"
   ]
  },
  {
   "cell_type": "code",
   "execution_count": null,
   "metadata": {},
   "outputs": [],
   "source": [
    "# transform data"
   ]
  },
  {
   "cell_type": "code",
   "execution_count": 20,
   "metadata": {},
   "outputs": [],
   "source": [
    "def dist_from_bill(lat, long):\n",
    "    \"\"\"returns a km distance from Bill and Melinda Gates' Medina residence\"\"\"\n",
    "    gates_lat = 47.62774\n",
    "    gates_long = -122.24194\n",
    "    return haversine((lat, long), (gates_lat, gates_long))"
   ]
  },
  {
   "cell_type": "code",
   "execution_count": 23,
   "metadata": {},
   "outputs": [
    {
     "data": {
      "text/plain": [
       "12329.845149186951"
      ]
     },
     "execution_count": 23,
     "metadata": {},
     "output_type": "execute_result"
    }
   ],
   "source": [
    "dist_from_bill(1,1)"
   ]
  },
  {
   "cell_type": "code",
   "execution_count": null,
   "metadata": {},
   "outputs": [],
   "source": []
  }
 ],
 "metadata": {
  "kernelspec": {
   "display_name": "Python [conda env:learn-env] *",
   "language": "python",
   "name": "conda-env-learn-env-py"
  },
  "language_info": {
   "codemirror_mode": {
    "name": "ipython",
    "version": 3
   },
   "file_extension": ".py",
   "mimetype": "text/x-python",
   "name": "python",
   "nbconvert_exporter": "python",
   "pygments_lexer": "ipython3",
   "version": "3.6.6"
  }
 },
 "nbformat": 4,
 "nbformat_minor": 2
}
