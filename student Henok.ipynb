{
 "cells": [
  {
   "cell_type": "markdown",
   "metadata": {},
   "source": [
    "## Final Project Submission\n",
    "\n",
    "Please fill out:\n",
    "* Student name: \n",
    "* Student pace: self paced / part time / full time\n",
    "* Scheduled project review date/time: \n",
    "* Instructor name: \n",
    "* Blog post URL:\n"
   ]
  },
  {
   "cell_type": "code",
   "execution_count": 1,
   "metadata": {},
   "outputs": [],
   "source": [
    "# Your code here - remember to use markdown cells for comments as well!"
   ]
  },
  {
   "cell_type": "code",
   "execution_count": 2,
   "metadata": {},
   "outputs": [],
   "source": [
    "import pandas as pd\n",
    "import numpy as np\n",
    "import matplotlib.pyplot as plt\n",
    "%matplotlib inline"
   ]
  },
  {
   "cell_type": "code",
   "execution_count": 3,
   "metadata": {},
   "outputs": [],
   "source": [
    "df = pd.read_csv(\"kc_house_data.csv\")"
   ]
  },
  {
   "cell_type": "code",
   "execution_count": 4,
   "metadata": {},
   "outputs": [],
   "source": [
    "# df.head()"
   ]
  },
  {
   "cell_type": "code",
   "execution_count": 5,
   "metadata": {},
   "outputs": [],
   "source": [
    "# df[['yr_renovated']].head()"
   ]
  },
  {
   "cell_type": "code",
   "execution_count": 6,
   "metadata": {},
   "outputs": [],
   "source": [
    "# df.info()"
   ]
  },
  {
   "cell_type": "code",
   "execution_count": 7,
   "metadata": {},
   "outputs": [],
   "source": [
    "# df.T"
   ]
  },
  {
   "cell_type": "code",
   "execution_count": 8,
   "metadata": {},
   "outputs": [],
   "source": [
    "#cleaning up sqft_basement data\n",
    "clean = df.replace(\"?\", np.nan)"
   ]
  },
  {
   "cell_type": "code",
   "execution_count": 9,
   "metadata": {},
   "outputs": [],
   "source": [
    "clean['sqft_basement'] = clean['sqft_basement'].replace('?',np.nan).astype(float)"
   ]
  },
  {
   "cell_type": "code",
   "execution_count": 10,
   "metadata": {},
   "outputs": [],
   "source": [
    "# type changes of two columns\n",
    "clean[\"sqft_basement\"].astype(float)\n",
    "clean[\"date\"] = pd.to_datetime(clean[\"date\"])"
   ]
  },
  {
   "cell_type": "code",
   "execution_count": 11,
   "metadata": {},
   "outputs": [],
   "source": [
    "# clean.info()"
   ]
  },
  {
   "cell_type": "code",
   "execution_count": 12,
   "metadata": {},
   "outputs": [],
   "source": [
    "#exploring missing values\n",
    "# clean.isna().sum()"
   ]
  },
  {
   "cell_type": "code",
   "execution_count": 13,
   "metadata": {},
   "outputs": [],
   "source": [
    "# clean.isnull().sum()"
   ]
  },
  {
   "cell_type": "code",
   "execution_count": 14,
   "metadata": {},
   "outputs": [
    {
     "data": {
      "text/plain": [
       "count    21534.000000\n",
       "mean         0.233863\n",
       "std          0.765686\n",
       "min          0.000000\n",
       "25%          0.000000\n",
       "50%          0.000000\n",
       "75%          0.000000\n",
       "max          4.000000\n",
       "Name: view, dtype: float64"
      ]
     },
     "execution_count": 14,
     "metadata": {},
     "output_type": "execute_result"
    }
   ],
   "source": [
    "#exploring missing values of 'view'\n",
    "condition_view=clean['view']!=np.nan\n",
    "clean.loc[condition_view,'view'].describe()   "
   ]
  },
  {
   "cell_type": "code",
   "execution_count": 15,
   "metadata": {},
   "outputs": [
    {
     "data": {
      "image/png": "[encoded data removed]",
      "text/plain": [
       "<Figure size 432x288 with 1 Axes>"
      ]
     },
     "metadata": {
      "needs_background": "light"
     },
     "output_type": "display_data"
    }
   ],
   "source": [
    "dataframe=clean.loc[clean['view'].isnull()==True]\n",
    "plt.hist(dataframe['price'],bins=15)\n",
    "plt.hist(clean.loc[clean['price']>4500000]['price'],bins=20,color='red')\n",
    "plt.xlabel\n",
    "plt.xlabel('price')\n",
    "plt.ylabel('count')\n",
    "plt.show()    #this is the reason why the points were not dropped as the price for the missing 'view' values\n",
    "#were concentrated in the extreme ends and we wanted to make sure the points were included in our regression model.\n",
    "# We see that one of the null view homes is one of very few high-value homes, making it useful in predicting the\n",
    "# values on this end of the spectrum\n",
    "\n"
   ]
  },
  {
   "cell_type": "code",
   "execution_count": 16,
   "metadata": {},
   "outputs": [],
   "source": [
    "# clean.columns"
   ]
  },
  {
   "cell_type": "code",
   "execution_count": 17,
   "metadata": {},
   "outputs": [
    {
     "data": {
      "image/png": "[encoded data removed]",
      "text/plain": [
       "<Figure size 432x288 with 1 Axes>"
      ]
     },
     "metadata": {
      "needs_background": "light"
     },
     "output_type": "display_data"
    }
   ],
   "source": [
    "df_sqftbasement=clean.loc[clean['sqft_basement'].isna()==False]\n",
    "\n",
    "plt.hist(df_sqftbasement['price'],bins=80)\n",
    "plt.xlim(400000,4500000)\n",
    "\n",
    "plt.show()"
   ]
  },
  {
   "cell_type": "code",
   "execution_count": 18,
   "metadata": {},
   "outputs": [
    {
     "data": {
      "text/plain": [
       "count    21143.000000\n",
       "mean       291.851724\n",
       "std        442.498337\n",
       "min          0.000000\n",
       "25%          0.000000\n",
       "50%          0.000000\n",
       "75%        560.000000\n",
       "max       4820.000000\n",
       "Name: sqft_basement, dtype: float64"
      ]
     },
     "execution_count": 18,
     "metadata": {},
     "output_type": "execute_result"
    }
   ],
   "source": [
    "df_sqftbasement['sqft_basement'].describe()"
   ]
  },
  {
   "cell_type": "markdown",
   "metadata": {},
   "source": [
    "Since the null sqft_basement transactions are concentrated in the low end of our price (target value), we chose to retain these records and impute the median of 0."
   ]
  },
  {
   "cell_type": "code",
   "execution_count": 19,
   "metadata": {},
   "outputs": [],
   "source": [
    "clean['sqft_basement']=clean['sqft_basement'].replace(np.nan,0)"
   ]
  },
  {
   "cell_type": "code",
   "execution_count": 20,
   "metadata": {},
   "outputs": [
    {
     "data": {
      "text/plain": [
       "count    21597.000000\n",
       "mean       285.716581\n",
       "std        439.819830\n",
       "min          0.000000\n",
       "25%          0.000000\n",
       "50%          0.000000\n",
       "75%        550.000000\n",
       "max       4820.000000\n",
       "Name: sqft_basement, dtype: float64"
      ]
     },
     "execution_count": 20,
     "metadata": {},
     "output_type": "execute_result"
    }
   ],
   "source": [
    "clean['sqft_basement'].describe() #compare this with when replace with mean"
   ]
  },
  {
   "cell_type": "code",
   "execution_count": 21,
   "metadata": {},
   "outputs": [],
   "source": [
    "#cleaning yr_innovated\n",
    "# clean.head()"
   ]
  },
  {
   "cell_type": "code",
   "execution_count": 22,
   "metadata": {},
   "outputs": [
    {
     "data": {
      "text/html": [
       "<div>\n",
       "<style scoped>\n",
       "    .dataframe tbody tr th:only-of-type {\n",
       "        vertical-align: middle;\n",
       "    }\n",
       "\n",
       "    .dataframe tbody tr th {\n",
       "        vertical-align: top;\n",
       "    }\n",
       "\n",
       "    .dataframe thead th {\n",
       "        text-align: right;\n",
       "    }\n",
       "</style>\n",
       "<table border=\"1\" class=\"dataframe\">\n",
       "  <thead>\n",
       "    <tr style=\"text-align: right;\">\n",
       "      <th></th>\n",
       "      <th>id</th>\n",
       "      <th>date</th>\n",
       "      <th>price</th>\n",
       "      <th>bedrooms</th>\n",
       "      <th>bathrooms</th>\n",
       "      <th>sqft_living</th>\n",
       "      <th>sqft_lot</th>\n",
       "      <th>floors</th>\n",
       "      <th>waterfront</th>\n",
       "      <th>view</th>\n",
       "      <th>...</th>\n",
       "      <th>grade</th>\n",
       "      <th>sqft_above</th>\n",
       "      <th>sqft_basement</th>\n",
       "      <th>yr_built</th>\n",
       "      <th>yr_renovated</th>\n",
       "      <th>zipcode</th>\n",
       "      <th>lat</th>\n",
       "      <th>long</th>\n",
       "      <th>sqft_living15</th>\n",
       "      <th>sqft_lot15</th>\n",
       "    </tr>\n",
       "  </thead>\n",
       "  <tbody>\n",
       "    <tr>\n",
       "      <th>2</th>\n",
       "      <td>5631500400</td>\n",
       "      <td>2015-02-25</td>\n",
       "      <td>180000.0</td>\n",
       "      <td>2</td>\n",
       "      <td>1.00</td>\n",
       "      <td>770</td>\n",
       "      <td>10000</td>\n",
       "      <td>1.0</td>\n",
       "      <td>0.0</td>\n",
       "      <td>0.0</td>\n",
       "      <td>...</td>\n",
       "      <td>6</td>\n",
       "      <td>770</td>\n",
       "      <td>0.0</td>\n",
       "      <td>1933</td>\n",
       "      <td>1933</td>\n",
       "      <td>98028</td>\n",
       "      <td>47.7379</td>\n",
       "      <td>-122.233</td>\n",
       "      <td>2720</td>\n",
       "      <td>8062</td>\n",
       "    </tr>\n",
       "    <tr>\n",
       "      <th>12</th>\n",
       "      <td>114101516</td>\n",
       "      <td>2014-05-28</td>\n",
       "      <td>310000.0</td>\n",
       "      <td>3</td>\n",
       "      <td>1.00</td>\n",
       "      <td>1430</td>\n",
       "      <td>19901</td>\n",
       "      <td>1.5</td>\n",
       "      <td>0.0</td>\n",
       "      <td>0.0</td>\n",
       "      <td>...</td>\n",
       "      <td>7</td>\n",
       "      <td>1430</td>\n",
       "      <td>0.0</td>\n",
       "      <td>1927</td>\n",
       "      <td>1927</td>\n",
       "      <td>98028</td>\n",
       "      <td>47.7558</td>\n",
       "      <td>-122.229</td>\n",
       "      <td>1780</td>\n",
       "      <td>12697</td>\n",
       "    </tr>\n",
       "    <tr>\n",
       "      <th>23</th>\n",
       "      <td>8091400200</td>\n",
       "      <td>2014-05-16</td>\n",
       "      <td>252700.0</td>\n",
       "      <td>2</td>\n",
       "      <td>1.50</td>\n",
       "      <td>1070</td>\n",
       "      <td>9643</td>\n",
       "      <td>1.0</td>\n",
       "      <td>NaN</td>\n",
       "      <td>0.0</td>\n",
       "      <td>...</td>\n",
       "      <td>7</td>\n",
       "      <td>1070</td>\n",
       "      <td>0.0</td>\n",
       "      <td>1985</td>\n",
       "      <td>1985</td>\n",
       "      <td>98030</td>\n",
       "      <td>47.3533</td>\n",
       "      <td>-122.166</td>\n",
       "      <td>1220</td>\n",
       "      <td>8386</td>\n",
       "    </tr>\n",
       "    <tr>\n",
       "      <th>26</th>\n",
       "      <td>1794500383</td>\n",
       "      <td>2014-06-26</td>\n",
       "      <td>937000.0</td>\n",
       "      <td>3</td>\n",
       "      <td>1.75</td>\n",
       "      <td>2450</td>\n",
       "      <td>2691</td>\n",
       "      <td>2.0</td>\n",
       "      <td>0.0</td>\n",
       "      <td>0.0</td>\n",
       "      <td>...</td>\n",
       "      <td>8</td>\n",
       "      <td>1750</td>\n",
       "      <td>700.0</td>\n",
       "      <td>1915</td>\n",
       "      <td>1915</td>\n",
       "      <td>98119</td>\n",
       "      <td>47.6386</td>\n",
       "      <td>-122.360</td>\n",
       "      <td>1760</td>\n",
       "      <td>3573</td>\n",
       "    </tr>\n",
       "    <tr>\n",
       "      <th>28</th>\n",
       "      <td>5101402488</td>\n",
       "      <td>2014-06-24</td>\n",
       "      <td>438000.0</td>\n",
       "      <td>3</td>\n",
       "      <td>1.75</td>\n",
       "      <td>1520</td>\n",
       "      <td>6380</td>\n",
       "      <td>1.0</td>\n",
       "      <td>0.0</td>\n",
       "      <td>0.0</td>\n",
       "      <td>...</td>\n",
       "      <td>7</td>\n",
       "      <td>790</td>\n",
       "      <td>730.0</td>\n",
       "      <td>1948</td>\n",
       "      <td>1948</td>\n",
       "      <td>98115</td>\n",
       "      <td>47.6950</td>\n",
       "      <td>-122.304</td>\n",
       "      <td>1520</td>\n",
       "      <td>6235</td>\n",
       "    </tr>\n",
       "  </tbody>\n",
       "</table>\n",
       "<p>5 rows × 21 columns</p>\n",
       "</div>"
      ],
      "text/plain": [
       "            id       date     price  bedrooms  bathrooms  sqft_living  \\\n",
       "2   5631500400 2015-02-25  180000.0         2       1.00          770   \n",
       "12   114101516 2014-05-28  310000.0         3       1.00         1430   \n",
       "23  8091400200 2014-05-16  252700.0         2       1.50         1070   \n",
       "26  1794500383 2014-06-26  937000.0         3       1.75         2450   \n",
       "28  5101402488 2014-06-24  438000.0         3       1.75         1520   \n",
       "\n",
       "    sqft_lot  floors  waterfront  view     ...      grade  sqft_above  \\\n",
       "2      10000     1.0         0.0   0.0     ...          6         770   \n",
       "12     19901     1.5         0.0   0.0     ...          7        1430   \n",
       "23      9643     1.0         NaN   0.0     ...          7        1070   \n",
       "26      2691     2.0         0.0   0.0     ...          8        1750   \n",
       "28      6380     1.0         0.0   0.0     ...          7         790   \n",
       "\n",
       "    sqft_basement  yr_built  yr_renovated  zipcode      lat     long  \\\n",
       "2             0.0      1933          1933    98028  47.7379 -122.233   \n",
       "12            0.0      1927          1927    98028  47.7558 -122.229   \n",
       "23            0.0      1985          1985    98030  47.3533 -122.166   \n",
       "26          700.0      1915          1915    98119  47.6386 -122.360   \n",
       "28          730.0      1948          1948    98115  47.6950 -122.304   \n",
       "\n",
       "    sqft_living15  sqft_lot15  \n",
       "2            2720        8062  \n",
       "12           1780       12697  \n",
       "23           1220        8386  \n",
       "26           1760        3573  \n",
       "28           1520        6235  \n",
       "\n",
       "[5 rows x 21 columns]"
      ]
     },
     "execution_count": 22,
     "metadata": {},
     "output_type": "execute_result"
    }
   ],
   "source": [
    "dataframe_yr=clean.loc[clean['yr_renovated'].isnull()].copy()\n",
    "\n",
    "dataframe_yr.loc[dataframe_yr['yr_renovated'].isna(),'yr_renovated']=(\n",
    "    dataframe_yr.loc[dataframe_yr['yr_renovated'].isnull(),'yr_built'])\n",
    "dataframe_yr.head()"
   ]
  },
  {
   "cell_type": "code",
   "execution_count": 23,
   "metadata": {},
   "outputs": [
    {
     "data": {
      "text/html": [
       "<div>\n",
       "<style scoped>\n",
       "    .dataframe tbody tr th:only-of-type {\n",
       "        vertical-align: middle;\n",
       "    }\n",
       "\n",
       "    .dataframe tbody tr th {\n",
       "        vertical-align: top;\n",
       "    }\n",
       "\n",
       "    .dataframe thead th {\n",
       "        text-align: right;\n",
       "    }\n",
       "</style>\n",
       "<table border=\"1\" class=\"dataframe\">\n",
       "  <thead>\n",
       "    <tr style=\"text-align: right;\">\n",
       "      <th></th>\n",
       "      <th>id</th>\n",
       "      <th>date</th>\n",
       "      <th>price</th>\n",
       "      <th>bedrooms</th>\n",
       "      <th>bathrooms</th>\n",
       "      <th>sqft_living</th>\n",
       "      <th>sqft_lot</th>\n",
       "      <th>floors</th>\n",
       "      <th>waterfront</th>\n",
       "      <th>view</th>\n",
       "      <th>...</th>\n",
       "      <th>grade</th>\n",
       "      <th>sqft_above</th>\n",
       "      <th>sqft_basement</th>\n",
       "      <th>yr_built</th>\n",
       "      <th>yr_renovated</th>\n",
       "      <th>zipcode</th>\n",
       "      <th>lat</th>\n",
       "      <th>long</th>\n",
       "      <th>sqft_living15</th>\n",
       "      <th>sqft_lot15</th>\n",
       "    </tr>\n",
       "  </thead>\n",
       "  <tbody>\n",
       "    <tr>\n",
       "      <th>0</th>\n",
       "      <td>7129300520</td>\n",
       "      <td>2014-10-13</td>\n",
       "      <td>221900.0</td>\n",
       "      <td>3</td>\n",
       "      <td>1.00</td>\n",
       "      <td>1180</td>\n",
       "      <td>5650</td>\n",
       "      <td>1.0</td>\n",
       "      <td>NaN</td>\n",
       "      <td>0.0</td>\n",
       "      <td>...</td>\n",
       "      <td>7</td>\n",
       "      <td>1180</td>\n",
       "      <td>0.0</td>\n",
       "      <td>1955</td>\n",
       "      <td>1955.0</td>\n",
       "      <td>98178</td>\n",
       "      <td>47.5112</td>\n",
       "      <td>-122.257</td>\n",
       "      <td>1340</td>\n",
       "      <td>5650</td>\n",
       "    </tr>\n",
       "    <tr>\n",
       "      <th>1</th>\n",
       "      <td>6414100192</td>\n",
       "      <td>2014-12-09</td>\n",
       "      <td>538000.0</td>\n",
       "      <td>3</td>\n",
       "      <td>2.25</td>\n",
       "      <td>2570</td>\n",
       "      <td>7242</td>\n",
       "      <td>2.0</td>\n",
       "      <td>0.0</td>\n",
       "      <td>0.0</td>\n",
       "      <td>...</td>\n",
       "      <td>7</td>\n",
       "      <td>2170</td>\n",
       "      <td>400.0</td>\n",
       "      <td>1951</td>\n",
       "      <td>1991.0</td>\n",
       "      <td>98125</td>\n",
       "      <td>47.7210</td>\n",
       "      <td>-122.319</td>\n",
       "      <td>1690</td>\n",
       "      <td>7639</td>\n",
       "    </tr>\n",
       "    <tr>\n",
       "      <th>2</th>\n",
       "      <td>5631500400</td>\n",
       "      <td>2015-02-25</td>\n",
       "      <td>180000.0</td>\n",
       "      <td>2</td>\n",
       "      <td>1.00</td>\n",
       "      <td>770</td>\n",
       "      <td>10000</td>\n",
       "      <td>1.0</td>\n",
       "      <td>0.0</td>\n",
       "      <td>0.0</td>\n",
       "      <td>...</td>\n",
       "      <td>6</td>\n",
       "      <td>770</td>\n",
       "      <td>0.0</td>\n",
       "      <td>1933</td>\n",
       "      <td>1933.0</td>\n",
       "      <td>98028</td>\n",
       "      <td>47.7379</td>\n",
       "      <td>-122.233</td>\n",
       "      <td>2720</td>\n",
       "      <td>8062</td>\n",
       "    </tr>\n",
       "    <tr>\n",
       "      <th>3</th>\n",
       "      <td>2487200875</td>\n",
       "      <td>2014-12-09</td>\n",
       "      <td>604000.0</td>\n",
       "      <td>4</td>\n",
       "      <td>3.00</td>\n",
       "      <td>1960</td>\n",
       "      <td>5000</td>\n",
       "      <td>1.0</td>\n",
       "      <td>0.0</td>\n",
       "      <td>0.0</td>\n",
       "      <td>...</td>\n",
       "      <td>7</td>\n",
       "      <td>1050</td>\n",
       "      <td>910.0</td>\n",
       "      <td>1965</td>\n",
       "      <td>1965.0</td>\n",
       "      <td>98136</td>\n",
       "      <td>47.5208</td>\n",
       "      <td>-122.393</td>\n",
       "      <td>1360</td>\n",
       "      <td>5000</td>\n",
       "    </tr>\n",
       "    <tr>\n",
       "      <th>4</th>\n",
       "      <td>1954400510</td>\n",
       "      <td>2015-02-18</td>\n",
       "      <td>510000.0</td>\n",
       "      <td>3</td>\n",
       "      <td>2.00</td>\n",
       "      <td>1680</td>\n",
       "      <td>8080</td>\n",
       "      <td>1.0</td>\n",
       "      <td>0.0</td>\n",
       "      <td>0.0</td>\n",
       "      <td>...</td>\n",
       "      <td>8</td>\n",
       "      <td>1680</td>\n",
       "      <td>0.0</td>\n",
       "      <td>1987</td>\n",
       "      <td>1987.0</td>\n",
       "      <td>98074</td>\n",
       "      <td>47.6168</td>\n",
       "      <td>-122.045</td>\n",
       "      <td>1800</td>\n",
       "      <td>7503</td>\n",
       "    </tr>\n",
       "  </tbody>\n",
       "</table>\n",
       "<p>5 rows × 21 columns</p>\n",
       "</div>"
      ],
      "text/plain": [
       "           id       date     price  bedrooms  bathrooms  sqft_living  \\\n",
       "0  7129300520 2014-10-13  221900.0         3       1.00         1180   \n",
       "1  6414100192 2014-12-09  538000.0         3       2.25         2570   \n",
       "2  5631500400 2015-02-25  180000.0         2       1.00          770   \n",
       "3  2487200875 2014-12-09  604000.0         4       3.00         1960   \n",
       "4  1954400510 2015-02-18  510000.0         3       2.00         1680   \n",
       "\n",
       "   sqft_lot  floors  waterfront  view     ...      grade  sqft_above  \\\n",
       "0      5650     1.0         NaN   0.0     ...          7        1180   \n",
       "1      7242     2.0         0.0   0.0     ...          7        2170   \n",
       "2     10000     1.0         0.0   0.0     ...          6         770   \n",
       "3      5000     1.0         0.0   0.0     ...          7        1050   \n",
       "4      8080     1.0         0.0   0.0     ...          8        1680   \n",
       "\n",
       "   sqft_basement  yr_built  yr_renovated  zipcode      lat     long  \\\n",
       "0            0.0      1955        1955.0    98178  47.5112 -122.257   \n",
       "1          400.0      1951        1991.0    98125  47.7210 -122.319   \n",
       "2            0.0      1933        1933.0    98028  47.7379 -122.233   \n",
       "3          910.0      1965        1965.0    98136  47.5208 -122.393   \n",
       "4            0.0      1987        1987.0    98074  47.6168 -122.045   \n",
       "\n",
       "   sqft_living15  sqft_lot15  \n",
       "0           1340        5650  \n",
       "1           1690        7639  \n",
       "2           2720        8062  \n",
       "3           1360        5000  \n",
       "4           1800        7503  \n",
       "\n",
       "[5 rows x 21 columns]"
      ]
     },
     "execution_count": 23,
     "metadata": {},
     "output_type": "execute_result"
    }
   ],
   "source": [
    "clean.loc[clean['yr_renovated'].isna(),'yr_renovated']=(\n",
    "    clean.loc[clean['yr_renovated'].isnull(),'yr_built'])\n",
    "\n",
    "clean.loc[clean['yr_renovated']==0,'yr_renovated']=(\n",
    "    clean.loc[clean['yr_renovated']==0,'yr_built'])\n",
    "clean.head()"
   ]
  },
  {
   "cell_type": "code",
   "execution_count": 24,
   "metadata": {},
   "outputs": [
    {
     "name": "stdout",
     "output_type": "stream",
     "text": [
      "0 63\n"
     ]
    }
   ],
   "source": [
    "clean['view_clean']=clean['view']\n",
    "clean.loc[clean['view_clean'].isna(),'view_clean']=0\n",
    "print(clean['view_clean'].isna().sum(),clean['view'].isna().sum())"
   ]
  },
  {
   "cell_type": "code",
   "execution_count": 25,
   "metadata": {},
   "outputs": [],
   "source": [
    "clean['waterfront_clean']=clean['waterfront']\n",
    "clean.loc[clean['waterfront_clean'].isna(),'waterfront_clean']=0\n",
    "# clean.describe().T"
   ]
  },
  {
   "cell_type": "code",
   "execution_count": 26,
   "metadata": {},
   "outputs": [],
   "source": [
    "# clean.columns"
   ]
  },
  {
   "cell_type": "code",
   "execution_count": 27,
   "metadata": {},
   "outputs": [],
   "source": [
    "# def replace_yr_ren(yr_ren,yr_built):\n",
    "#     \"\"\"takes two lists and if yr_ren is np.nan, it returns yr_built\"\"\"\n",
    "#     output=[]\n",
    "#     for index,year in enumerate(yr_ren):\n",
    "#         if year.isnull() or year==0:\n",
    "#             output.append(yr_built[index])\n",
    "#         else:\n",
    "#             output.append(year)\n",
    "#     return output"
   ]
  },
  {
   "cell_type": "code",
   "execution_count": 28,
   "metadata": {},
   "outputs": [],
   "source": [
    "# clean[['yr_renovated','yr_built']].head()\n"
   ]
  },
  {
   "cell_type": "code",
   "execution_count": 29,
   "metadata": {},
   "outputs": [],
   "source": [
    "# np.array(replace_yr_ren(clean['yr_renovated'],clean['yr_built'])).value_counts()"
   ]
  },
  {
   "cell_type": "code",
   "execution_count": 30,
   "metadata": {},
   "outputs": [],
   "source": [
    "# clean['yr_rennovated_clean'] = replace_yr_ren(clean['yr_renovated'],clean['yr_built'])\n",
    "# clean.head()"
   ]
  },
  {
   "cell_type": "code",
   "execution_count": 31,
   "metadata": {},
   "outputs": [
    {
     "data": {
      "image/png": "[encoded data removed]",
      "text/plain": [
       "<Figure size 432x288 with 1 Axes>"
      ]
     },
     "metadata": {
      "needs_background": "light"
     },
     "output_type": "display_data"
    }
   ],
   "source": [
    "#graph for the price for the missing 'sqft_basement' values\n",
    "plt.hist(df_sqftbasement['price'],bins=50)\n",
    "plt.show()\n",
    "#the graph shows us the missing sqft_basement are concentrated in low priced homes"
   ]
  },
  {
   "cell_type": "code",
   "execution_count": null,
   "metadata": {},
   "outputs": [],
   "source": []
  },
  {
   "cell_type": "code",
   "execution_count": 32,
   "metadata": {},
   "outputs": [],
   "source": [
    "#we could replace the np.nan values of 'view' with 0 but we would like to take a look..\n",
    "#how the values of price change for the missing values of view\n"
   ]
  },
  {
   "cell_type": "code",
   "execution_count": 33,
   "metadata": {},
   "outputs": [],
   "source": [
    "#creating a flag column for waterfront, first approach\n",
    "clean[\"imputed_waterfront\"] = clean[\"waterfront\"].replace(np.nan, 0)\n",
    "\n",
    "#creating a flag column for waterfront, second approach, needs error resolution\n",
    "#clean[\"imputed_waterfront_2\"] = clean.loc[clean[\"waterfront\"] == np.nan]\n",
    "\n",
    "#imputing waterfront records to median value, which is zero\n",
    "clean[\"waterfront\"].replace(np.nan, 0, inplace = True)"
   ]
  },
  {
   "cell_type": "code",
   "execution_count": 34,
   "metadata": {},
   "outputs": [
    {
     "data": {
      "text/plain": [
       "Index(['id', 'date', 'price', 'bedrooms', 'bathrooms', 'sqft_living',\n",
       "       'sqft_lot', 'floors', 'waterfront', 'view', 'condition', 'grade',\n",
       "       'sqft_above', 'sqft_basement', 'yr_built', 'yr_renovated', 'zipcode',\n",
       "       'lat', 'long', 'sqft_living15', 'sqft_lot15', 'view_clean',\n",
       "       'waterfront_clean', 'imputed_waterfront'],\n",
       "      dtype='object')"
      ]
     },
     "execution_count": 34,
     "metadata": {},
     "output_type": "execute_result"
    }
   ],
   "source": [
    "#check if a new column with a headline 'imputed_waterfront' is created\n",
    "clean.columns"
   ]
  },
  {
   "cell_type": "code",
   "execution_count": 35,
   "metadata": {},
   "outputs": [
    {
     "data": {
      "text/plain": [
       "waterfront    0\n",
       "dtype: int64"
      ]
     },
     "execution_count": 35,
     "metadata": {},
     "output_type": "execute_result"
    }
   ],
   "source": [
    "#To view the two columns 'waterfront'\n",
    "clean[['waterfront']].isna().sum()"
   ]
  },
  {
   "cell_type": "code",
   "execution_count": 36,
   "metadata": {},
   "outputs": [
    {
     "data": {
      "text/plain": [
       "0"
      ]
     },
     "execution_count": 36,
     "metadata": {},
     "output_type": "execute_result"
    }
   ],
   "source": [
    "clean['sqft_basement'].isna().sum()"
   ]
  },
  {
   "cell_type": "code",
   "execution_count": 37,
   "metadata": {},
   "outputs": [
    {
     "data": {
      "text/plain": [
       "id                     0\n",
       "date                   0\n",
       "price                  0\n",
       "bedrooms               0\n",
       "bathrooms              0\n",
       "sqft_living            0\n",
       "sqft_lot               0\n",
       "floors                 0\n",
       "waterfront             0\n",
       "view                  63\n",
       "condition              0\n",
       "grade                  0\n",
       "sqft_above             0\n",
       "sqft_basement          0\n",
       "yr_built               0\n",
       "yr_renovated           0\n",
       "zipcode                0\n",
       "lat                    0\n",
       "long                   0\n",
       "sqft_living15          0\n",
       "sqft_lot15             0\n",
       "view_clean             0\n",
       "waterfront_clean       0\n",
       "imputed_waterfront     0\n",
       "dtype: int64"
      ]
     },
     "execution_count": 37,
     "metadata": {},
     "output_type": "execute_result"
    }
   ],
   "source": [
    "clean.isna().sum()"
   ]
  },
  {
   "cell_type": "code",
   "execution_count": 38,
   "metadata": {},
   "outputs": [
    {
     "name": "stdout",
     "output_type": "stream",
     "text": [
      "<class 'pandas.core.frame.DataFrame'>\n",
      "RangeIndex: 21597 entries, 0 to 21596\n",
      "Data columns (total 24 columns):\n",
      "id                    21597 non-null int64\n",
      "date                  21597 non-null datetime64[ns]\n",
      "price                 21597 non-null float64\n",
      "bedrooms              21597 non-null int64\n",
      "bathrooms             21597 non-null float64\n",
      "sqft_living           21597 non-null int64\n",
      "sqft_lot              21597 non-null int64\n",
      "floors                21597 non-null float64\n",
      "waterfront            21597 non-null float64\n",
      "view                  21534 non-null float64\n",
      "condition             21597 non-null int64\n",
      "grade                 21597 non-null int64\n",
      "sqft_above            21597 non-null int64\n",
      "sqft_basement         21597 non-null float64\n",
      "yr_built              21597 non-null int64\n",
      "yr_renovated          21597 non-null float64\n",
      "zipcode               21597 non-null int64\n",
      "lat                   21597 non-null float64\n",
      "long                  21597 non-null float64\n",
      "sqft_living15         21597 non-null int64\n",
      "sqft_lot15            21597 non-null int64\n",
      "view_clean            21597 non-null float64\n",
      "waterfront_clean      21597 non-null float64\n",
      "imputed_waterfront    21597 non-null float64\n",
      "dtypes: datetime64[ns](1), float64(12), int64(11)\n",
      "memory usage: 4.0 MB\n"
     ]
    }
   ],
   "source": [
    "clean.info()"
   ]
  },
  {
   "cell_type": "code",
   "execution_count": 39,
   "metadata": {},
   "outputs": [],
   "source": [
    "clean.to_csv('cleaneddata.csv')"
   ]
  },
  {
   "cell_type": "code",
   "execution_count": 40,
   "metadata": {},
   "outputs": [],
   "source": [
    "import folium\n",
    "import webbrowser"
   ]
  },
  {
   "cell_type": "code",
   "execution_count": 41,
   "metadata": {},
   "outputs": [
    {
     "data": {
      "text/plain": [
       "Index(['id', 'date', 'price', 'bedrooms', 'bathrooms', 'sqft_living',\n",
       "       'sqft_lot', 'floors', 'waterfront', 'view', 'condition', 'grade',\n",
       "       'sqft_above', 'sqft_basement', 'yr_built', 'yr_renovated', 'zipcode',\n",
       "       'lat', 'long', 'sqft_living15', 'sqft_lot15', 'view_clean',\n",
       "       'waterfront_clean', 'imputed_waterfront'],\n",
       "      dtype='object')"
      ]
     },
     "execution_count": 41,
     "metadata": {},
     "output_type": "execute_result"
    }
   ],
   "source": [
    "clean.columns"
   ]
  },
  {
   "cell_type": "code",
   "execution_count": 43,
   "metadata": {},
   "outputs": [],
   "source": [
    "# housing_map=folium.Map(location=[df['lat'],df['long']],zoom_starts=5)"
   ]
  },
  {
   "cell_type": "code",
   "execution_count": 44,
   "metadata": {},
   "outputs": [],
   "source": [
    "clean_ohe=pd.read_csv('clean_ohe.csv')"
   ]
  },
  {
   "cell_type": "code",
   "execution_count": null,
   "metadata": {},
   "outputs": [],
   "source": []
  },
  {
   "cell_type": "code",
   "execution_count": 45,
   "metadata": {},
   "outputs": [
    {
     "data": {
      "image/png": "[encoded data removed]",
      "text/plain": [
       "<Figure size 432x288 with 2 Axes>"
      ]
     },
     "metadata": {
      "needs_background": "light"
     },
     "output_type": "display_data"
    }
   ],
   "source": [
    "clean_model_one=clean.drop(['id','lat','long','waterfront','yr_built','yr_renovated',\n",
    "                            'grade','condition','zipcode','view_clean','waterfront_clean','imputed_waterfront']\n",
    "                           ,axis=1)\n",
    "import seaborn as sns\n",
    "sns.heatmap(abs(clean_model_one.corr())>0.75,center=0);"
   ]
  },
  {
   "cell_type": "code",
   "execution_count": 46,
   "metadata": {},
   "outputs": [
    {
     "data": {
      "text/html": [
       "<div>\n",
       "<style scoped>\n",
       "    .dataframe tbody tr th:only-of-type {\n",
       "        vertical-align: middle;\n",
       "    }\n",
       "\n",
       "    .dataframe tbody tr th {\n",
       "        vertical-align: top;\n",
       "    }\n",
       "\n",
       "    .dataframe thead th {\n",
       "        text-align: right;\n",
       "    }\n",
       "</style>\n",
       "<table border=\"1\" class=\"dataframe\">\n",
       "  <thead>\n",
       "    <tr style=\"text-align: right;\">\n",
       "      <th></th>\n",
       "      <th>price</th>\n",
       "      <th>bedrooms</th>\n",
       "      <th>bathrooms</th>\n",
       "      <th>sqft_living</th>\n",
       "      <th>sqft_lot</th>\n",
       "      <th>floors</th>\n",
       "      <th>view</th>\n",
       "      <th>sqft_above</th>\n",
       "      <th>sqft_basement</th>\n",
       "      <th>sqft_living15</th>\n",
       "      <th>sqft_lot15</th>\n",
       "    </tr>\n",
       "  </thead>\n",
       "  <tbody>\n",
       "    <tr>\n",
       "      <th>price</th>\n",
       "      <td>1.000000</td>\n",
       "      <td>0.308787</td>\n",
       "      <td>0.525906</td>\n",
       "      <td>0.701917</td>\n",
       "      <td>0.089876</td>\n",
       "      <td>0.256804</td>\n",
       "      <td>0.395734</td>\n",
       "      <td>0.605368</td>\n",
       "      <td>0.321108</td>\n",
       "      <td>0.585241</td>\n",
       "      <td>0.082845</td>\n",
       "    </tr>\n",
       "    <tr>\n",
       "      <th>bedrooms</th>\n",
       "      <td>0.308787</td>\n",
       "      <td>1.000000</td>\n",
       "      <td>0.514508</td>\n",
       "      <td>0.578212</td>\n",
       "      <td>0.032471</td>\n",
       "      <td>0.177944</td>\n",
       "      <td>0.078523</td>\n",
       "      <td>0.479386</td>\n",
       "      <td>0.297229</td>\n",
       "      <td>0.393406</td>\n",
       "      <td>0.030690</td>\n",
       "    </tr>\n",
       "    <tr>\n",
       "      <th>bathrooms</th>\n",
       "      <td>0.525906</td>\n",
       "      <td>0.514508</td>\n",
       "      <td>1.000000</td>\n",
       "      <td>0.755758</td>\n",
       "      <td>0.088373</td>\n",
       "      <td>0.502582</td>\n",
       "      <td>0.186451</td>\n",
       "      <td>0.686668</td>\n",
       "      <td>0.278485</td>\n",
       "      <td>0.569884</td>\n",
       "      <td>0.088303</td>\n",
       "    </tr>\n",
       "    <tr>\n",
       "      <th>sqft_living</th>\n",
       "      <td>0.701917</td>\n",
       "      <td>0.578212</td>\n",
       "      <td>0.755758</td>\n",
       "      <td>1.000000</td>\n",
       "      <td>0.173453</td>\n",
       "      <td>0.353953</td>\n",
       "      <td>0.282532</td>\n",
       "      <td>0.876448</td>\n",
       "      <td>0.428660</td>\n",
       "      <td>0.756402</td>\n",
       "      <td>0.184342</td>\n",
       "    </tr>\n",
       "    <tr>\n",
       "      <th>sqft_lot</th>\n",
       "      <td>0.089876</td>\n",
       "      <td>0.032471</td>\n",
       "      <td>0.088373</td>\n",
       "      <td>0.173453</td>\n",
       "      <td>1.000000</td>\n",
       "      <td>-0.004814</td>\n",
       "      <td>0.075298</td>\n",
       "      <td>0.184139</td>\n",
       "      <td>0.015031</td>\n",
       "      <td>0.144763</td>\n",
       "      <td>0.718204</td>\n",
       "    </tr>\n",
       "    <tr>\n",
       "      <th>floors</th>\n",
       "      <td>0.256804</td>\n",
       "      <td>0.177944</td>\n",
       "      <td>0.502582</td>\n",
       "      <td>0.353953</td>\n",
       "      <td>-0.004814</td>\n",
       "      <td>1.000000</td>\n",
       "      <td>0.028436</td>\n",
       "      <td>0.523989</td>\n",
       "      <td>-0.241866</td>\n",
       "      <td>0.280102</td>\n",
       "      <td>-0.010722</td>\n",
       "    </tr>\n",
       "    <tr>\n",
       "      <th>view</th>\n",
       "      <td>0.395734</td>\n",
       "      <td>0.078523</td>\n",
       "      <td>0.186451</td>\n",
       "      <td>0.282532</td>\n",
       "      <td>0.075298</td>\n",
       "      <td>0.028436</td>\n",
       "      <td>1.000000</td>\n",
       "      <td>0.166299</td>\n",
       "      <td>0.271689</td>\n",
       "      <td>0.279561</td>\n",
       "      <td>0.073332</td>\n",
       "    </tr>\n",
       "    <tr>\n",
       "      <th>sqft_above</th>\n",
       "      <td>0.605368</td>\n",
       "      <td>0.479386</td>\n",
       "      <td>0.686668</td>\n",
       "      <td>0.876448</td>\n",
       "      <td>0.184139</td>\n",
       "      <td>0.523989</td>\n",
       "      <td>0.166299</td>\n",
       "      <td>1.000000</td>\n",
       "      <td>-0.051175</td>\n",
       "      <td>0.731767</td>\n",
       "      <td>0.195077</td>\n",
       "    </tr>\n",
       "    <tr>\n",
       "      <th>sqft_basement</th>\n",
       "      <td>0.321108</td>\n",
       "      <td>0.297229</td>\n",
       "      <td>0.278485</td>\n",
       "      <td>0.428660</td>\n",
       "      <td>0.015031</td>\n",
       "      <td>-0.241866</td>\n",
       "      <td>0.271689</td>\n",
       "      <td>-0.051175</td>\n",
       "      <td>1.000000</td>\n",
       "      <td>0.199288</td>\n",
       "      <td>0.015885</td>\n",
       "    </tr>\n",
       "    <tr>\n",
       "      <th>sqft_living15</th>\n",
       "      <td>0.585241</td>\n",
       "      <td>0.393406</td>\n",
       "      <td>0.569884</td>\n",
       "      <td>0.756402</td>\n",
       "      <td>0.144763</td>\n",
       "      <td>0.280102</td>\n",
       "      <td>0.279561</td>\n",
       "      <td>0.731767</td>\n",
       "      <td>0.199288</td>\n",
       "      <td>1.000000</td>\n",
       "      <td>0.183515</td>\n",
       "    </tr>\n",
       "    <tr>\n",
       "      <th>sqft_lot15</th>\n",
       "      <td>0.082845</td>\n",
       "      <td>0.030690</td>\n",
       "      <td>0.088303</td>\n",
       "      <td>0.184342</td>\n",
       "      <td>0.718204</td>\n",
       "      <td>-0.010722</td>\n",
       "      <td>0.073332</td>\n",
       "      <td>0.195077</td>\n",
       "      <td>0.015885</td>\n",
       "      <td>0.183515</td>\n",
       "      <td>1.000000</td>\n",
       "    </tr>\n",
       "  </tbody>\n",
       "</table>\n",
       "</div>"
      ],
      "text/plain": [
       "                  price  bedrooms  bathrooms  sqft_living  sqft_lot    floors  \\\n",
       "price          1.000000  0.308787   0.525906     0.701917  0.089876  0.256804   \n",
       "bedrooms       0.308787  1.000000   0.514508     0.578212  0.032471  0.177944   \n",
       "bathrooms      0.525906  0.514508   1.000000     0.755758  0.088373  0.502582   \n",
       "sqft_living    0.701917  0.578212   0.755758     1.000000  0.173453  0.353953   \n",
       "sqft_lot       0.089876  0.032471   0.088373     0.173453  1.000000 -0.004814   \n",
       "floors         0.256804  0.177944   0.502582     0.353953 -0.004814  1.000000   \n",
       "view           0.395734  0.078523   0.186451     0.282532  0.075298  0.028436   \n",
       "sqft_above     0.605368  0.479386   0.686668     0.876448  0.184139  0.523989   \n",
       "sqft_basement  0.321108  0.297229   0.278485     0.428660  0.015031 -0.241866   \n",
       "sqft_living15  0.585241  0.393406   0.569884     0.756402  0.144763  0.280102   \n",
       "sqft_lot15     0.082845  0.030690   0.088303     0.184342  0.718204 -0.010722   \n",
       "\n",
       "                   view  sqft_above  sqft_basement  sqft_living15  sqft_lot15  \n",
       "price          0.395734    0.605368       0.321108       0.585241    0.082845  \n",
       "bedrooms       0.078523    0.479386       0.297229       0.393406    0.030690  \n",
       "bathrooms      0.186451    0.686668       0.278485       0.569884    0.088303  \n",
       "sqft_living    0.282532    0.876448       0.428660       0.756402    0.184342  \n",
       "sqft_lot       0.075298    0.184139       0.015031       0.144763    0.718204  \n",
       "floors         0.028436    0.523989      -0.241866       0.280102   -0.010722  \n",
       "view           1.000000    0.166299       0.271689       0.279561    0.073332  \n",
       "sqft_above     0.166299    1.000000      -0.051175       0.731767    0.195077  \n",
       "sqft_basement  0.271689   -0.051175       1.000000       0.199288    0.015885  \n",
       "sqft_living15  0.279561    0.731767       0.199288       1.000000    0.183515  \n",
       "sqft_lot15     0.073332    0.195077       0.015885       0.183515    1.000000  "
      ]
     },
     "execution_count": 46,
     "metadata": {},
     "output_type": "execute_result"
    }
   ],
   "source": [
    "clean_model_one.corr()"
   ]
  },
  {
   "cell_type": "code",
   "execution_count": null,
   "metadata": {},
   "outputs": [],
   "source": [
    "##'bathrooms' and 'sqft_living' are highly correlated. \n",
    "#'sqft_above' and 'sqft_living' are highly correlated\n",
    "#'sqft_living' and 'sqft_living15' are highly correlated. \n",
    "#price and sqft_living have higher linear associate than the other three features so we could drop those two\n",
    "#To avoidmulticollinarity"
   ]
  },
  {
   "cell_type": "code",
   "execution_count": null,
   "metadata": {},
   "outputs": [],
   "source": [
    "from statsmodels.formula.api import ols"
   ]
  },
  {
   "cell_type": "code",
   "execution_count": null,
   "metadata": {},
   "outputs": [],
   "source": [
    "#'clean data with no categorical features'\n",
    "\n",
    "outcome='price'\n",
    "x_cols=['bedrooms','bathrooms','sqft_living','sqft_lot','sqft_above','sqft_basement',\n",
    "        'sqft_living15','sqft_lot15']\n",
    "predictors='+'.join(x_cols)\n",
    "formula=outcome + \"~\" + predictors\n",
    "model=ols(formula=formula,data=clean_model_one).fit()\n",
    "model.summary()"
   ]
  },
  {
   "cell_type": "code",
   "execution_count": null,
   "metadata": {},
   "outputs": [],
   "source": [
    "#'clean data with no categorical features after taking out:\n",
    "#'bathrooms','sqft_living','sqft_lot','sqft_above','sqft_living15'\n",
    "outcome='price'\n",
    "x_cols=['bedrooms','sqft_living','sqft_lot','sqft_basement','sqft_lot15']\n",
    "\n",
    "predictors='+'.join(x_cols)\n",
    "formula=outcome + \"~\" + predictors\n",
    "model=ols(formula=formula,data=clean_model_one).fit()\n",
    "model.summary()"
   ]
  },
  {
   "cell_type": "code",
   "execution_count": null,
   "metadata": {},
   "outputs": [],
   "source": []
  },
  {
   "cell_type": "code",
   "execution_count": null,
   "metadata": {},
   "outputs": [],
   "source": [
    "#model with ALL categorical features except Zipcode\n",
    "outcome='price'\n",
    "x_cols=['bedrooms','bathrooms','sqft_living','sqft_lot','floors','condition','grade','sqft_above',\n",
    "        'sqft_basement','yr_built','yr_renovated','sqft_living15','sqft_lot15','waterfront_clean','view_clean']\n",
    "predictors='+'.join(x_cols)\n",
    "formula=outcome + \"~\" + predictors\n",
    "model=ols(formula=formula,data=clean_ohe).fit()\n",
    "model.summary()"
   ]
  },
  {
   "cell_type": "code",
   "execution_count": null,
   "metadata": {},
   "outputs": [],
   "source": [
    "#took out 'sqft_above' feature\n",
    "outcome='price'\n",
    "x_cols=['bedrooms','bathrooms','sqft_living','sqft_lot','floors','condition','grade',\n",
    "        'sqft_basement','yr_built','yr_renovated','sqft_living15','sqft_lot15','waterfront_clean','view_clean']\n",
    "predictors='+'.join(x_cols)\n",
    "formula=outcome + \"~\" + predictors\n",
    "model=ols(formula=formula,data=clean_ohe).fit()\n",
    "model.summary()"
   ]
  },
  {
   "cell_type": "code",
   "execution_count": 47,
   "metadata": {},
   "outputs": [
    {
     "data": {
      "image/png": "[encoded data removed]",
      "text/plain": [
       "<Figure size 432x288 with 2 Axes>"
      ]
     },
     "metadata": {
      "needs_background": "light"
     },
     "output_type": "display_data"
    }
   ],
   "source": [
    "clean_model_one=clean.drop(['id','lat','long','waterfront','yr_built','yr_renovated',\n",
    "                            'grade','condition','zipcode','view_clean','waterfront_clean','imputed_waterfront']\n",
    "                           ,axis=1)\n",
    "import seaborn as sns\n",
    "sns.heatmap(abs(clean_model_one.corr())>0.75,center=0);"
   ]
  },
  {
   "cell_type": "code",
   "execution_count": 86,
   "metadata": {},
   "outputs": [],
   "source": [
    "# x_cols=[col for col in clean_ohe.columns if col!='sqft_above']"
   ]
  },
  {
   "cell_type": "code",
   "execution_count": 95,
   "metadata": {},
   "outputs": [],
   "source": [
    "\n",
    "x_condition=[col for col in clean_ohe.columns if col not in ['sqft_above','id','date','price']]\n",
    "# x_condition \n",
    "x_value=pd.DataFrame(clean_ohe,columns=x_condition)\n",
    "X=x_value.values \n",
    "y=clean_ohe.iloc[:,2].values.reshape(-1,1)"
   ]
  },
  {
   "cell_type": "code",
   "execution_count": 80,
   "metadata": {},
   "outputs": [],
   "source": [
    "from sklearn.preprocessing import StandardScaler\n",
    "import numpy as np\n"
   ]
  },
  {
   "cell_type": "code",
   "execution_count": 109,
   "metadata": {},
   "outputs": [],
   "source": [
    "from sklearn.model_selection import train_test_split\n",
    "X_train, X_test, y_train, y_test = train_test_split(X, y, test_size = 0.2, random_state = 0)"
   ]
  },
  {
   "cell_type": "code",
   "execution_count": 110,
   "metadata": {},
   "outputs": [],
   "source": [
    "sc_X = StandardScaler()\n",
    "\n",
    "X_train = sc_X.fit_transform(X_train)\n",
    "X_test = sc_X.transform(X_test)\n",
    "\n",
    "\n",
    "sc_y = StandardScaler()\n",
    "y_train = sc_y.fit_transform(y_train)"
   ]
  },
  {
   "cell_type": "code",
   "execution_count": 99,
   "metadata": {},
   "outputs": [],
   "source": [
    "from sklearn.linear_model import LinearRegression"
   ]
  },
  {
   "cell_type": "code",
   "execution_count": 101,
   "metadata": {},
   "outputs": [
    {
     "data": {
      "text/plain": [
       "LinearRegression(copy_X=True, fit_intercept=True, n_jobs=None, normalize=False)"
      ]
     },
     "execution_count": 101,
     "metadata": {},
     "output_type": "execute_result"
    }
   ],
   "source": [
    "lr=LinearRegression()\n",
    "lr.fit(X_train,y_train)"
   ]
  },
  {
   "cell_type": "code",
   "execution_count": 102,
   "metadata": {},
   "outputs": [],
   "source": [
    "y_pred=lr.predict(X_test)"
   ]
  },
  {
   "cell_type": "code",
   "execution_count": 108,
   "metadata": {},
   "outputs": [
    {
     "name": "stdout",
     "output_type": "stream",
     "text": [
      "                            OLS Regression Results                            \n",
      "==============================================================================\n",
      "Dep. Variable:                      y   R-squared:                       0.807\n",
      "Model:                            OLS   Adj. R-squared:                  0.806\n",
      "Method:                 Least Squares   F-statistic:                     1060.\n",
      "Date:                Wed, 21 Aug 2019   Prob (F-statistic):               0.00\n",
      "Time:                        16:29:19   Log-Likelihood:            -2.8961e+05\n",
      "No. Observations:               21597   AIC:                         5.794e+05\n",
      "Df Residuals:                   21511   BIC:                         5.801e+05\n",
      "Df Model:                          85                                         \n",
      "Covariance Type:            nonrobust                                         \n",
      "==============================================================================\n",
      "                 coef    std err          t      P>|t|      [0.025      0.975]\n",
      "------------------------------------------------------------------------------\n",
      "const       -2.41e+07   6.09e+06     -3.954      0.000    -3.6e+07   -1.22e+07\n",
      "x1         -2.722e+04   1546.503    -17.598      0.000   -3.02e+04   -2.42e+04\n",
      "x2          2.293e+04   2647.527      8.660      0.000    1.77e+04    2.81e+04\n",
      "x3           206.0870      3.029     68.030      0.000     200.149     212.025\n",
      "x4             0.2475      0.039      6.406      0.000       0.172       0.323\n",
      "x5         -4.196e+04   3157.196    -13.291      0.000   -4.81e+04   -3.58e+04\n",
      "x6           2.51e+04   1935.735     12.965      0.000    2.13e+04    2.89e+04\n",
      "x7          5.823e+04   1833.896     31.754      0.000    5.46e+04    6.18e+04\n",
      "x8           -73.8017      3.613    -20.427      0.000     -80.883     -66.720\n",
      "x9         -1380.6180    105.317    -13.109      0.000   -1587.046   -1174.190\n",
      "x10          647.1232    105.831      6.115      0.000     439.686     854.560\n",
      "x11         2.068e+05   6.38e+04      3.243      0.001    8.18e+04    3.32e+05\n",
      "x12        -1.287e+05   4.58e+04     -2.810      0.005   -2.19e+05   -3.89e+04\n",
      "x13           11.3327      2.904      3.902      0.000       5.640      17.026\n",
      "x14           -0.1393      0.061     -2.289      0.022      -0.259      -0.020\n",
      "x15         6.884e+05   1.48e+04     46.575      0.000    6.59e+05    7.17e+05\n",
      "x16         5.609e+04   1747.979     32.088      0.000    5.27e+04    5.95e+04\n",
      "x17        -4.992e+05   8.47e+04     -5.894      0.000   -6.65e+05   -3.33e+05\n",
      "x18        -4.644e+05   8.26e+04     -5.624      0.000   -6.26e+05   -3.03e+05\n",
      "x19        -5.234e+05   8.66e+04     -6.045      0.000   -6.93e+05   -3.54e+05\n",
      "x20           2.2e+05   8.91e+04      2.470      0.014    4.54e+04    3.95e+05\n",
      "x21         -2.51e+05   8.79e+04     -2.856      0.004   -4.23e+05   -7.87e+04\n",
      "x22        -2.725e+05    8.5e+04     -3.208      0.001   -4.39e+05   -1.06e+05\n",
      "x23        -3.036e+05    8.7e+04     -3.488      0.000   -4.74e+05   -1.33e+05\n",
      "x24        -2.951e+05   8.56e+04     -3.447      0.001   -4.63e+05   -1.27e+05\n",
      "x25        -4.019e+05    7.5e+04     -5.356      0.000   -5.49e+05   -2.55e+05\n",
      "x26         -4.62e+05   9.36e+04     -4.934      0.000   -6.46e+05   -2.78e+05\n",
      "x27        -4.199e+05   7.89e+04     -5.319      0.000   -5.75e+05   -2.65e+05\n",
      "x28        -4.569e+05   8.44e+04     -5.413      0.000   -6.22e+05   -2.91e+05\n",
      "x29        -4.589e+05   7.18e+04     -6.394      0.000      -6e+05   -3.18e+05\n",
      "x30        -5.459e+05   8.86e+04     -6.162      0.000    -7.2e+05   -3.72e+05\n",
      "x31        -3.498e+05   7.78e+04     -4.497      0.000   -5.02e+05   -1.97e+05\n",
      "x32        -3.487e+05      8e+04     -4.359      0.000   -5.05e+05   -1.92e+05\n",
      "x33        -4.709e+05   9.51e+04     -4.953      0.000   -6.57e+05   -2.85e+05\n",
      "x34        -3.089e+05   7.97e+04     -3.875      0.000   -4.65e+05   -1.53e+05\n",
      "x35        -4.967e+05   8.25e+04     -6.020      0.000   -6.58e+05   -3.35e+05\n",
      "x36        -4.962e+05   8.31e+04     -5.968      0.000   -6.59e+05   -3.33e+05\n",
      "x37        -5.086e+05   8.69e+04     -5.853      0.000   -6.79e+05   -3.38e+05\n",
      "x38        -2.025e+05   9.03e+04     -2.243      0.025   -3.79e+05   -2.56e+04\n",
      "x39        -3.756e+05   9.23e+04     -4.071      0.000   -5.56e+05   -1.95e+05\n",
      "x40        -4.507e+05   7.56e+04     -5.959      0.000   -5.99e+05   -3.02e+05\n",
      "x41         7.557e+05   9.28e+04      8.139      0.000    5.74e+05    9.38e+05\n",
      "x42         -3.61e+04   8.83e+04     -0.409      0.683   -2.09e+05    1.37e+05\n",
      "x43        -4.861e+05    7.9e+04     -6.153      0.000   -6.41e+05   -3.31e+05\n",
      "x44        -3.784e+05   6.81e+04     -5.559      0.000   -5.12e+05   -2.45e+05\n",
      "x45        -3.329e+05   8.76e+04     -3.799      0.000   -5.05e+05   -1.61e+05\n",
      "x46        -3.545e+05   8.43e+04     -4.204      0.000    -5.2e+05   -1.89e+05\n",
      "x47        -4.759e+05   8.49e+04     -5.606      0.000   -6.42e+05   -3.09e+05\n",
      "x48        -4.344e+05   8.52e+04     -5.100      0.000   -6.01e+05   -2.67e+05\n",
      "x49        -4.849e+05   8.21e+04     -5.907      0.000   -6.46e+05   -3.24e+05\n",
      "x50         -4.38e+05    8.3e+04     -5.279      0.000   -6.01e+05   -2.75e+05\n",
      "x51        -4.113e+05   7.35e+04     -5.594      0.000   -5.55e+05   -2.67e+05\n",
      "x52        -5.523e+05   9.59e+04     -5.758      0.000    -7.4e+05   -3.64e+05\n",
      "x53        -4.245e+05   9.08e+04     -4.673      0.000   -6.03e+05   -2.46e+05\n",
      "x54        -3.678e+05   8.31e+04     -4.427      0.000   -5.31e+05   -2.05e+05\n",
      "x55        -3.611e+05   8.12e+04     -4.447      0.000    -5.2e+05   -2.02e+05\n",
      "x56         -4.48e+05   8.84e+04     -5.067      0.000   -6.21e+05   -2.75e+05\n",
      "x57        -5.229e+05   8.03e+04     -6.516      0.000    -6.8e+05   -3.66e+05\n",
      "x58        -6.205e+04   9.49e+04     -0.654      0.513   -2.48e+05    1.24e+05\n",
      "x59        -2.448e+05    9.6e+04     -2.551      0.011   -4.33e+05   -5.67e+04\n",
      "x60        -1.085e+05    9.4e+04     -1.154      0.249   -2.93e+05    7.58e+04\n",
      "x61        -4.071e+05   9.29e+04     -4.382      0.000   -5.89e+05   -2.25e+05\n",
      "x62        -2.401e+05   9.73e+04     -2.468      0.014   -4.31e+05   -4.94e+04\n",
      "x63        -4.254e+05   9.15e+04     -4.647      0.000   -6.05e+05   -2.46e+05\n",
      "x64        -8.626e+04    9.6e+04     -0.899      0.369   -2.74e+05    1.02e+05\n",
      "x65         4.855e+04   9.31e+04      0.522      0.602   -1.34e+05    2.31e+05\n",
      "x66        -2.504e+05   9.46e+04     -2.646      0.008   -4.36e+05   -6.49e+04\n",
      "x67        -2.804e+05   9.53e+04     -2.942      0.003   -4.67e+05   -9.36e+04\n",
      "x68        -2.737e+05   9.77e+04     -2.803      0.005   -4.65e+05   -8.23e+04\n",
      "x69        -3.745e+05   8.96e+04     -4.178      0.000    -5.5e+05   -1.99e+05\n",
      "x70        -1.062e+05   9.63e+04     -1.103      0.270   -2.95e+05    8.26e+04\n",
      "x71        -2.287e+05   9.26e+04     -2.471      0.013    -4.1e+05   -4.73e+04\n",
      "x72         -3.85e+05   9.57e+04     -4.022      0.000   -5.73e+05   -1.97e+05\n",
      "x73        -3.665e+05   9.38e+04     -3.906      0.000    -5.5e+05   -1.83e+05\n",
      "x74         -4.28e+05   9.79e+04     -4.373      0.000    -6.2e+05   -2.36e+05\n",
      "x75         -3.16e+05   9.43e+04     -3.350      0.001   -5.01e+05   -1.31e+05\n",
      "x76        -2.816e+05   9.18e+04     -3.068      0.002   -4.62e+05   -1.02e+05\n",
      "x77        -4.355e+05   9.22e+04     -4.721      0.000   -6.16e+05   -2.55e+05\n",
      "x78        -4.623e+05   9.16e+04     -5.047      0.000   -6.42e+05   -2.83e+05\n",
      "x79        -4.471e+05    9.7e+04     -4.609      0.000   -6.37e+05   -2.57e+05\n",
      "x80        -4.846e+05   9.09e+04     -5.329      0.000   -6.63e+05   -3.06e+05\n",
      "x81        -4.616e+05   8.99e+04     -5.132      0.000   -6.38e+05   -2.85e+05\n",
      "x82        -3.854e+05   9.93e+04     -3.882      0.000    -5.8e+05   -1.91e+05\n",
      "x83        -4.971e+05   8.76e+04     -5.671      0.000   -6.69e+05   -3.25e+05\n",
      "x84        -4.915e+05   8.84e+04     -5.561      0.000   -6.65e+05   -3.18e+05\n",
      "x85        -5.212e+05   8.81e+04     -5.913      0.000   -6.94e+05   -3.48e+05\n",
      "x86        -2.008e+05   9.75e+04     -2.060      0.039   -3.92e+05   -9734.800\n",
      "==============================================================================\n",
      "Omnibus:                    20906.741   Durbin-Watson:                   1.990\n",
      "Prob(Omnibus):                  0.000   Jarque-Bera (JB):          4298261.820\n",
      "Skew:                           4.195   Prob(JB):                         0.00\n",
      "Kurtosis:                      71.601   Cond. No.                     2.00e+17\n",
      "==============================================================================\n",
      "\n",
      "Warnings:\n",
      "[1] Standard Errors assume that the covariance matrix of the errors is correctly specified.\n",
      "[2] The smallest eigenvalue is 1.38e-21. This might indicate that there are\n",
      "strong multicollinearity problems or that the design matrix is singular.\n"
     ]
    }
   ],
   "source": [
    "import statsmodels.api as sm\n",
    "\n",
    "X = sm.add_constant(X) # adding a constant\n",
    " \n",
    "model = sm.OLS(y, X).fit()\n",
    "predictions = model.predict(X) \n",
    " \n",
    "print_model = model.summary()\n",
    "print(print_model)"
   ]
  },
  {
   "cell_type": "code",
   "execution_count": null,
   "metadata": {},
   "outputs": [],
   "source": []
  },
  {
   "cell_type": "code",
   "execution_count": null,
   "metadata": {},
   "outputs": [],
   "source": [
    "# x_cols=[col for col in clean_ohe.columns if col!='sqft_above']\n",
    "# clean_ohe[x_cols[1:13]].hist(figsize  = [12, 12]);\n",
    "\n",
    "# x_cols[1:13]\n"
   ]
  },
  {
   "cell_type": "code",
   "execution_count": null,
   "metadata": {},
   "outputs": [],
   "source": [
    "# outcome='price'\n",
    "# x_cols=[col for col in clean_ohe.columns if col!='sqft_above']\n",
    "# predictors='+'.join(x_cols)\n",
    "# formula=outcome + \"~\" + predictors\n",
    "# model=ols(formula=formula,data=clean_ohe).fit()\n",
    "# # model.summary()"
   ]
  },
  {
   "cell_type": "code",
   "execution_count": 131,
   "metadata": {},
   "outputs": [
    {
     "name": "stdout",
     "output_type": "stream",
     "text": [
      "0.05                             OLS Regression Results                            \n",
      "==============================================================================\n",
      "Dep. Variable:                      y   R-squared:                       0.255\n",
      "Model:                            OLS   Adj. R-squared:                  0.252\n",
      "Method:                 Least Squares   F-statistic:                     82.31\n",
      "Date:                Wed, 21 Aug 2019   Prob (F-statistic):               0.00\n",
      "Time:                        16:55:32   Log-Likelihood:            -3.0080e+05\n",
      "No. Observations:               20517   AIC:                         6.018e+05\n",
      "Df Residuals:                   20432   BIC:                         6.025e+05\n",
      "Df Model:                          85                                         \n",
      "Covariance Type:            nonrobust                                         \n",
      "==============================================================================\n",
      "                 coef    std err          t      P>|t|      [0.025      0.975]\n",
      "------------------------------------------------------------------------------\n",
      "x1          -2.53e+04   5127.913     -4.934      0.000   -3.53e+04   -1.52e+04\n",
      "x2          1.788e+04   7301.695      2.448      0.014    3564.967    3.22e+04\n",
      "x3            1.9e+05   9982.259     19.029      0.000     1.7e+05     2.1e+05\n",
      "x4          1.012e+04   5706.639      1.774      0.076   -1062.808    2.13e+04\n",
      "x5         -2.222e+04   6109.094     -3.637      0.000   -3.42e+04   -1.02e+04\n",
      "x6           1.62e+04   4519.180      3.585      0.000    7341.347    2.51e+04\n",
      "x7          6.803e+04   7723.228      8.809      0.000    5.29e+04    8.32e+04\n",
      "x8         -3.255e+04   5701.820     -5.708      0.000   -4.37e+04   -2.14e+04\n",
      "x9         -4.191e+04   1.12e+04     -3.754      0.000   -6.38e+04      -2e+04\n",
      "x10         1.979e+04   1.11e+04      1.789      0.074   -1893.238    4.15e+04\n",
      "x11         2.839e+04   3.17e+04      0.897      0.370   -3.37e+04    9.05e+04\n",
      "x12        -1.793e+04   2.32e+04     -0.774      0.439   -6.34e+04    2.75e+04\n",
      "x13         7696.9248   7145.088      1.077      0.281   -6308.020    2.17e+04\n",
      "x14        -3477.0114   5925.188     -0.587      0.557   -1.51e+04    8136.832\n",
      "x15         5.544e+04   4343.292     12.765      0.000    4.69e+04     6.4e+04\n",
      "x16         4.256e+04   4788.651      8.887      0.000    3.32e+04    5.19e+04\n",
      "x17        -1.836e+04   8508.864     -2.157      0.031    -3.5e+04   -1677.327\n",
      "x18        -9931.5100   6739.456     -1.474      0.141   -2.31e+04    3278.364\n",
      "x19        -1.857e+04   7727.249     -2.403      0.016   -3.37e+04   -3425.132\n",
      "x20         6.871e+04   4233.158     16.233      0.000    6.04e+04     7.7e+04\n",
      "x21         9434.2779   4152.300      2.272      0.023    1295.438    1.76e+04\n",
      "x22         1.203e+04   4328.014      2.779      0.005    3545.105    2.05e+04\n",
      "x23         4643.1371   4163.087      1.115      0.265   -3516.848    1.28e+04\n",
      "x24         7037.1493   4581.031      1.536      0.125   -1942.039     1.6e+04\n",
      "x25        -2818.1987   5706.147     -0.494      0.621    -1.4e+04    8366.307\n",
      "x26        -1.005e+04   5756.303     -1.746      0.081   -2.13e+04    1233.645\n",
      "x27        -5044.9147   6421.283     -0.786      0.432   -1.76e+04    7541.314\n",
      "x28        -9181.8262   6942.797     -1.322      0.186   -2.28e+04    4426.612\n",
      "x29        -1.043e+04   9636.891     -1.082      0.279   -2.93e+04    8457.861\n",
      "x30        -2.823e+04   1.03e+04     -2.729      0.006   -4.85e+04   -7953.596\n",
      "x31          652.1655   4998.034      0.130      0.896   -9144.381    1.04e+04\n",
      "x32         1504.9563   5525.531      0.272      0.785   -9325.528    1.23e+04\n",
      "x33        -1.237e+04   6380.104     -1.939      0.052   -2.49e+04     131.570\n",
      "x34         6276.3762   5740.581      1.093      0.274   -4975.623    1.75e+04\n",
      "x35        -1.488e+04   6083.256     -2.446      0.014   -2.68e+04   -2956.195\n",
      "x36         -1.55e+04   5582.906     -2.777      0.005   -2.64e+04   -4558.194\n",
      "x37        -1.139e+04   5213.598     -2.184      0.029   -2.16e+04   -1166.286\n",
      "x38         2.185e+04   5503.638      3.970      0.000    1.11e+04    3.26e+04\n",
      "x39        -2371.8732   6886.050     -0.344      0.731   -1.59e+04    1.11e+04\n",
      "x40        -1.508e+04   9156.613     -1.646      0.100    -3.3e+04    2872.252\n",
      "x41         5.338e+04   4034.985     13.230      0.000    4.55e+04    6.13e+04\n",
      "x42         3.658e+04   3991.027      9.165      0.000    2.88e+04    4.44e+04\n",
      "x43        -1.985e+04   8229.406     -2.412      0.016    -3.6e+04   -3720.537\n",
      "x44        -1929.1144   8581.730     -0.225      0.822   -1.87e+04    1.49e+04\n",
      "x45         4278.1143   6522.780      0.656      0.512   -8507.057    1.71e+04\n",
      "x46          853.5454   7078.380      0.121      0.904    -1.3e+04    1.47e+04\n",
      "x47        -1.308e+04   4673.825     -2.799      0.005   -2.22e+04   -3922.516\n",
      "x48        -1.021e+04   4240.717     -2.407      0.016   -1.85e+04   -1896.167\n",
      "x49        -1.805e+04   5552.682     -3.251      0.001   -2.89e+04   -7167.349\n",
      "x50        -1.172e+04   4832.432     -2.426      0.015   -2.12e+04   -2251.090\n",
      "x51        -6722.4901   7809.048     -0.861      0.389    -2.2e+04    8583.870\n",
      "x52        -1.458e+04   5752.330     -2.535      0.011   -2.59e+04   -3305.444\n",
      "x53        -7127.8288   6516.025     -1.094      0.274   -1.99e+04    5644.103\n",
      "x54        -1167.0418   6038.022     -0.193      0.847    -1.3e+04    1.07e+04\n",
      "x55         -632.8292   5739.758     -0.110      0.912   -1.19e+04    1.06e+04\n",
      "x56        -8419.8238   6289.872     -1.339      0.181   -2.07e+04    3908.829\n",
      "x57        -2.081e+04   8437.695     -2.467      0.014   -3.74e+04   -4274.927\n",
      "x58         2.102e+04   4323.608      4.862      0.000    1.25e+04    2.95e+04\n",
      "x59         1.869e+04   6747.602      2.770      0.006    5463.707    3.19e+04\n",
      "x60         2.587e+04   4839.800      5.345      0.000    1.64e+04    3.54e+04\n",
      "x61        -5864.7453   4943.240     -1.186      0.235   -1.56e+04    3824.401\n",
      "x62         1.331e+04   5557.933      2.395      0.017    2419.377    2.42e+04\n",
      "x63        -6225.9289   4184.327     -1.488      0.137   -1.44e+04    1975.687\n",
      "x64         1.962e+04   4423.129      4.436      0.000     1.1e+04    2.83e+04\n",
      "x65         4.503e+04   4617.708      9.751      0.000     3.6e+04    5.41e+04\n",
      "x66         1.772e+04   6403.501      2.767      0.006    5165.769    3.03e+04\n",
      "x67         9602.5684   5359.600      1.792      0.073    -902.677    2.01e+04\n",
      "x68         1.383e+04   7239.916      1.911      0.056    -357.977     2.8e+04\n",
      "x69        -2304.2516   4258.477     -0.541      0.588   -1.07e+04    6042.705\n",
      "x70         2.287e+04   4819.406      4.745      0.000    1.34e+04    3.23e+04\n",
      "x71         1.541e+04   4463.556      3.452      0.001    6660.258    2.42e+04\n",
      "x72        -3566.9041   6462.370     -0.552      0.581   -1.62e+04    9099.858\n",
      "x73         -958.0980   5205.797     -0.184      0.854   -1.12e+04    9245.682\n",
      "x74        -1.038e+04   7653.077     -1.357      0.175   -2.54e+04    4615.834\n",
      "x75         4590.8912   5091.281      0.902      0.367   -5388.428    1.46e+04\n",
      "x76         9618.8608   4349.611      2.211      0.027    1093.274    1.81e+04\n",
      "x77        -8966.7076   5047.014     -1.777      0.076   -1.89e+04     925.844\n",
      "x78        -5152.4312   4312.178     -1.195      0.232   -1.36e+04    3299.783\n",
      "x79         -1.21e+04   7580.220     -1.597      0.110    -2.7e+04    2753.537\n",
      "x80        -1.308e+04   5340.199     -2.449      0.014   -2.35e+04   -2609.533\n",
      "x81        -1.091e+04   4699.480     -2.322      0.020   -2.01e+04   -1699.989\n",
      "x82        -2711.1646   6464.213     -0.419      0.675   -1.54e+04    9959.211\n",
      "x83        -1.513e+04   4270.860     -3.542      0.000   -2.35e+04   -6757.279\n",
      "x84        -1.075e+04   4554.740     -2.360      0.018   -1.97e+04   -1819.812\n",
      "x85        -1.861e+04   6294.591     -2.957      0.003    -3.1e+04   -6276.421\n",
      "x86         1.914e+04   5741.470      3.334      0.001    7885.846    3.04e+04\n",
      "==============================================================================\n",
      "Omnibus:                    20177.012   Durbin-Watson:                   0.165\n",
      "Prob(Omnibus):                  0.000   Jarque-Bera (JB):          4364654.624\n",
      "Skew:                           4.297   Prob(JB):                         0.00\n",
      "Kurtosis:                      73.935   Cond. No.                     5.02e+15\n",
      "==============================================================================\n",
      "\n",
      "Warnings:\n",
      "[1] Standard Errors assume that the covariance matrix of the errors is correctly specified.\n",
      "[2] The smallest eigenvalue is 4.19e-27. This might indicate that there are\n",
      "strong multicollinearity problems or that the design matrix is singular.\n"
     ]
    },
    {
     "name": "stdout",
     "output_type": "stream",
     "text": [
      "0.1                             OLS Regression Results                            \n",
      "==============================================================================\n",
      "Dep. Variable:                      y   R-squared:                       0.257\n",
      "Model:                            OLS   Adj. R-squared:                  0.254\n",
      "Method:                 Least Squares   F-statistic:                     78.68\n",
      "Date:                Wed, 21 Aug 2019   Prob (F-statistic):               0.00\n",
      "Time:                        16:55:33   Log-Likelihood:            -2.8502e+05\n",
      "No. Observations:               19437   AIC:                         5.702e+05\n",
      "Df Residuals:                   19352   BIC:                         5.709e+05\n",
      "Df Model:                          85                                         \n",
      "Covariance Type:            nonrobust                                         \n",
      "==============================================================================\n",
      "                 coef    std err          t      P>|t|      [0.025      0.975]\n",
      "------------------------------------------------------------------------------\n",
      "x1         -2.523e+04   5276.172     -4.783      0.000   -3.56e+04   -1.49e+04\n",
      "x2          1.719e+04   7543.743      2.278      0.023    2399.244     3.2e+04\n",
      "x3          1.933e+05   1.03e+04     18.800      0.000    1.73e+05    2.13e+05\n",
      "x4          9754.8498   5951.550      1.639      0.101   -1910.704    2.14e+04\n",
      "x5          -2.27e+04   6295.752     -3.605      0.000    -3.5e+04   -1.04e+04\n",
      "x6          1.609e+04   4656.112      3.455      0.001    6962.513    2.52e+04\n",
      "x7           6.76e+04   7943.356      8.510      0.000     5.2e+04    8.32e+04\n",
      "x8         -3.295e+04   5881.462     -5.602      0.000   -4.45e+04   -2.14e+04\n",
      "x9         -4.236e+04   1.15e+04     -3.698      0.000   -6.48e+04   -1.99e+04\n",
      "x10         2.059e+04   1.14e+04      1.813      0.070   -1667.833    4.28e+04\n",
      "x11         2.941e+04   3.26e+04      0.901      0.368   -3.46e+04    9.34e+04\n",
      "x12        -2.006e+04   2.37e+04     -0.847      0.397   -6.65e+04    2.64e+04\n",
      "x13         6735.2917   7332.571      0.919      0.358   -7637.182    2.11e+04\n",
      "x14        -3502.5228   6171.451     -0.568      0.570   -1.56e+04    8594.056\n",
      "x15         5.641e+04   4487.142     12.572      0.000    4.76e+04    6.52e+04\n",
      "x16         4.286e+04   4949.906      8.659      0.000    3.32e+04    5.26e+04\n",
      "x17        -1.853e+04   8851.570     -2.093      0.036   -3.59e+04   -1179.036\n",
      "x18        -9999.3273   6962.106     -1.436      0.151   -2.36e+04    3647.004\n",
      "x19        -1.821e+04   7897.996     -2.305      0.021   -3.37e+04   -2727.608\n",
      "x20         6.956e+04   4365.612     15.935      0.000     6.1e+04    7.81e+04\n",
      "x21         9447.5745   4271.201      2.212      0.027    1075.651    1.78e+04\n",
      "x22         1.257e+04   4448.549      2.827      0.005    3854.323    2.13e+04\n",
      "x23         4677.7893   4283.695      1.092      0.275   -3718.625    1.31e+04\n",
      "x24         7038.8362   4701.037      1.497      0.134   -2175.603    1.63e+04\n",
      "x25        -2394.1521   5924.901     -0.404      0.686    -1.4e+04    9219.167\n",
      "x26         -1.01e+04   5930.454     -1.702      0.089   -2.17e+04    1527.665\n",
      "x27        -4622.9326   6618.191     -0.699      0.485   -1.76e+04    8349.295\n",
      "x28        -8926.9938   7058.840     -1.265      0.206   -2.28e+04    4908.944\n",
      "x29        -1.019e+04   9910.030     -1.029      0.304   -2.96e+04    9229.640\n",
      "x30        -2.832e+04   1.06e+04     -2.681      0.007    -4.9e+04   -7612.198\n",
      "x31          962.5626   5166.282      0.186      0.852   -9163.798    1.11e+04\n",
      "x32         1695.8136   5669.761      0.299      0.765   -9417.409    1.28e+04\n",
      "x33        -1.282e+04   6589.704     -1.946      0.052   -2.57e+04      92.688\n",
      "x34         6411.5004   5883.789      1.090      0.276   -5121.236    1.79e+04\n",
      "x35        -1.489e+04   6332.830     -2.352      0.019   -2.73e+04   -2480.355\n",
      "x36        -1.552e+04   5772.767     -2.689      0.007   -2.68e+04   -4208.732\n",
      "x37        -1.117e+04   5394.339     -2.070      0.038   -2.17e+04    -595.545\n",
      "x38         2.182e+04   5656.099      3.857      0.000    1.07e+04    3.29e+04\n",
      "x39        -2398.2724   7074.818     -0.339      0.735   -1.63e+04    1.15e+04\n",
      "x40        -1.459e+04   9398.431     -1.553      0.120    -3.3e+04    3827.755\n",
      "x41         5.468e+04   4162.525     13.136      0.000    4.65e+04    6.28e+04\n",
      "x42         3.695e+04   4114.059      8.981      0.000    2.89e+04     4.5e+04\n",
      "x43        -1.949e+04   8489.217     -2.296      0.022   -3.61e+04   -2851.595\n",
      "x44        -1250.2235   8867.637     -0.141      0.888   -1.86e+04    1.61e+04\n",
      "x45         4292.7806   6705.734      0.640      0.522   -8851.038    1.74e+04\n",
      "x46          987.3521   7251.808      0.136      0.892   -1.32e+04    1.52e+04\n",
      "x47        -1.314e+04   4828.573     -2.721      0.007   -2.26e+04   -3675.560\n",
      "x48        -1.003e+04   4375.166     -2.292      0.022   -1.86e+04   -1450.864\n",
      "x49        -1.788e+04   5737.812     -3.116      0.002   -2.91e+04   -6633.253\n",
      "x50         -1.17e+04   4980.987     -2.350      0.019   -2.15e+04   -1940.129\n",
      "x51        -6136.7532   7990.982     -0.768      0.443   -2.18e+04    9526.264\n",
      "x52        -1.501e+04   5937.429     -2.529      0.011   -2.67e+04   -3375.129\n",
      "x53        -7244.2536   6686.470     -1.083      0.279   -2.04e+04    5861.806\n",
      "x54         -857.3917   6251.729     -0.137      0.891   -1.31e+04    1.14e+04\n",
      "x55         -279.3863   5857.181     -0.048      0.962   -1.18e+04    1.12e+04\n",
      "x56        -8556.9824   6497.420     -1.317      0.188   -2.13e+04    4178.522\n",
      "x57        -2.048e+04   8645.836     -2.369      0.018   -3.74e+04   -3532.652\n",
      "x58          2.01e+04   4457.822      4.509      0.000    1.14e+04    2.88e+04\n",
      "x59         1.856e+04   6951.617      2.670      0.008    4933.241    3.22e+04\n",
      "x60          2.58e+04   4983.567      5.176      0.000     1.6e+04    3.56e+04\n",
      "x61        -6240.2809   5081.379     -1.228      0.219   -1.62e+04    3719.662\n",
      "x62         1.302e+04   5705.055      2.282      0.023    1835.814    2.42e+04\n",
      "x63        -6467.8734   4304.926     -1.502      0.133   -1.49e+04    1970.154\n",
      "x64         1.955e+04   4546.396      4.300      0.000    1.06e+04    2.85e+04\n",
      "x65         4.468e+04   4757.540      9.391      0.000    3.54e+04     5.4e+04\n",
      "x66         1.759e+04   6599.166      2.666      0.008    4659.583    3.05e+04\n",
      "x67         9291.5144   5498.200      1.690      0.091   -1485.434    2.01e+04\n",
      "x68         1.329e+04   7446.934      1.785      0.074   -1304.072    2.79e+04\n",
      "x69        -2516.4760   4384.447     -0.574      0.566   -1.11e+04    6077.420\n",
      "x70         2.242e+04   4969.690      4.512      0.000    1.27e+04    3.22e+04\n",
      "x71         1.539e+04   4602.606      3.344      0.001    6368.018    2.44e+04\n",
      "x72        -3883.9938   6646.901     -0.584      0.559   -1.69e+04    9144.508\n",
      "x73        -1300.9839   5340.412     -0.244      0.808   -1.18e+04    9166.686\n",
      "x74        -1.087e+04   7897.366     -1.376      0.169   -2.63e+04    4614.296\n",
      "x75         4443.7221   5241.017      0.848      0.397   -5829.124    1.47e+04\n",
      "x76         9363.7087   4476.163      2.092      0.036     590.041    1.81e+04\n",
      "x77        -9244.1800   5177.051     -1.786      0.074   -1.94e+04     903.288\n",
      "x78        -5673.2640   4439.012     -1.278      0.201   -1.44e+04    3027.584\n",
      "x79        -1.259e+04   7831.897     -1.607      0.108   -2.79e+04    2762.172\n",
      "x80        -1.315e+04   5487.910     -2.396      0.017   -2.39e+04   -2389.956\n",
      "x81        -1.112e+04   4835.099     -2.299      0.022   -2.06e+04   -1638.560\n",
      "x82        -3422.4686   6701.730     -0.511      0.610   -1.66e+04    9713.502\n",
      "x83        -1.539e+04   4402.491     -3.495      0.000    -2.4e+04   -6757.794\n",
      "x84        -1.064e+04   4680.827     -2.274      0.023   -1.98e+04   -1469.031\n",
      "x85        -1.886e+04   6487.125     -2.908      0.004   -3.16e+04   -6148.786\n",
      "x86         1.866e+04   5947.961      3.137      0.002    7000.627    3.03e+04\n",
      "==============================================================================\n",
      "Omnibus:                    19133.611   Durbin-Watson:                   0.167\n",
      "Prob(Omnibus):                  0.000   Jarque-Bera (JB):          4108974.456\n",
      "Skew:                           4.307   Prob(JB):                         0.00\n",
      "Kurtosis:                      73.706   Cond. No.                     5.43e+15\n",
      "==============================================================================\n",
      "\n",
      "Warnings:\n",
      "[1] Standard Errors assume that the covariance matrix of the errors is correctly specified.\n",
      "[2] The smallest eigenvalue is 3.38e-27. This might indicate that there are\n",
      "strong multicollinearity problems or that the design matrix is singular.\n"
     ]
    },
    {
     "name": "stdout",
     "output_type": "stream",
     "text": [
      "0.15                             OLS Regression Results                            \n",
      "==============================================================================\n",
      "Dep. Variable:                      y   R-squared:                       0.260\n",
      "Model:                            OLS   Adj. R-squared:                  0.256\n",
      "Method:                 Least Squares   F-statistic:                     75.36\n",
      "Date:                Wed, 21 Aug 2019   Prob (F-statistic):               0.00\n",
      "Time:                        16:55:33   Log-Likelihood:            -2.6923e+05\n",
      "No. Observations:               18357   AIC:                         5.386e+05\n",
      "Df Residuals:                   18272   BIC:                         5.393e+05\n",
      "Df Model:                          85                                         \n",
      "Covariance Type:            nonrobust                                         \n",
      "==============================================================================\n",
      "                 coef    std err          t      P>|t|      [0.025      0.975]\n",
      "------------------------------------------------------------------------------\n",
      "x1          -2.59e+04   5443.589     -4.758      0.000   -3.66e+04   -1.52e+04\n",
      "x2          1.744e+04   7786.707      2.239      0.025    2175.121    3.27e+04\n",
      "x3          1.965e+05   1.06e+04     18.469      0.000    1.76e+05    2.17e+05\n",
      "x4          7236.5018   6133.581      1.180      0.238   -4785.893    1.93e+04\n",
      "x5         -2.314e+04   6482.254     -3.570      0.000   -3.58e+04   -1.04e+04\n",
      "x6          1.596e+04   4800.914      3.325      0.001    6554.068    2.54e+04\n",
      "x7          6.769e+04   8213.756      8.241      0.000    5.16e+04    8.38e+04\n",
      "x8         -3.339e+04   6064.449     -5.505      0.000   -4.53e+04   -2.15e+04\n",
      "x9         -4.275e+04   1.18e+04     -3.634      0.000   -6.58e+04   -1.97e+04\n",
      "x10           2.1e+04   1.16e+04      1.804      0.071   -1816.735    4.38e+04\n",
      "x11         2.883e+04   3.36e+04      0.859      0.390    -3.7e+04    9.46e+04\n",
      "x12          -2.2e+04   2.47e+04     -0.892      0.373   -7.04e+04    2.64e+04\n",
      "x13         6705.8369   7570.880      0.886      0.376   -8133.799    2.15e+04\n",
      "x14        -3365.5540   6325.360     -0.532      0.595   -1.58e+04    9032.744\n",
      "x15         5.652e+04   4637.885     12.186      0.000    4.74e+04    6.56e+04\n",
      "x16         4.405e+04   5112.466      8.616      0.000     3.4e+04    5.41e+04\n",
      "x17        -1.901e+04   9157.417     -2.076      0.038    -3.7e+04   -1059.604\n",
      "x18        -1.026e+04   7184.045     -1.428      0.153   -2.43e+04    3825.569\n",
      "x19        -1.838e+04   8120.893     -2.263      0.024   -3.43e+04   -2460.754\n",
      "x20         6.993e+04   4508.267     15.511      0.000    6.11e+04    7.88e+04\n",
      "x21         9450.6599   4422.018      2.137      0.033     783.089    1.81e+04\n",
      "x22         1.264e+04   4598.199      2.749      0.006    3627.513    2.17e+04\n",
      "x23         4381.9342   4418.886      0.992      0.321   -4279.497     1.3e+04\n",
      "x24         7318.2635   4868.019      1.503      0.133   -2223.511    1.69e+04\n",
      "x25        -2563.5776   6126.714     -0.418      0.676   -1.46e+04    9445.357\n",
      "x26        -1.033e+04   6149.969     -1.679      0.093   -2.24e+04    1728.220\n",
      "x27        -4047.9438   6853.701     -0.591      0.555   -1.75e+04    9385.952\n",
      "x28        -8232.3298   7231.904     -1.138      0.255   -2.24e+04    5942.880\n",
      "x29        -1.003e+04   1.02e+04     -0.987      0.323   -2.99e+04    9882.028\n",
      "x30        -2.899e+04   1.09e+04     -2.656      0.008   -5.04e+04   -7591.439\n",
      "x31         1296.0841   5354.883      0.242      0.809   -9199.988    1.18e+04\n",
      "x32         2033.3215   5906.872      0.344      0.731   -9544.701    1.36e+04\n",
      "x33        -1.278e+04   6832.358     -1.870      0.061   -2.62e+04     615.416\n",
      "x34         6605.7580   6120.572      1.079      0.280   -5391.138    1.86e+04\n",
      "x35        -1.528e+04   6530.945     -2.340      0.019   -2.81e+04   -2480.048\n",
      "x36        -1.523e+04   5944.613     -2.561      0.010   -2.69e+04   -3575.009\n",
      "x37        -1.132e+04   5523.333     -2.049      0.040   -2.21e+04    -490.531\n",
      "x38         2.224e+04   5841.348      3.807      0.000    1.08e+04    3.37e+04\n",
      "x39        -2510.8777   7275.758     -0.345      0.730   -1.68e+04    1.18e+04\n",
      "x40        -1.448e+04   9746.016     -1.486      0.137   -3.36e+04    4622.050\n",
      "x41         5.494e+04   4294.997     12.793      0.000    4.65e+04    6.34e+04\n",
      "x42         3.656e+04   4247.339      8.608      0.000    2.82e+04    4.49e+04\n",
      "x43        -1.934e+04   8722.173     -2.217      0.027   -3.64e+04   -2240.971\n",
      "x44         -483.6315   9232.900     -0.052      0.958   -1.86e+04    1.76e+04\n",
      "x45         4542.7351   6946.095      0.654      0.513   -9072.262    1.82e+04\n",
      "x46         1239.8390   7484.453      0.166      0.868   -1.34e+04    1.59e+04\n",
      "x47        -1.307e+04   4957.803     -2.636      0.008   -2.28e+04   -3353.084\n",
      "x48        -1.007e+04   4506.301     -2.235      0.025   -1.89e+04   -1238.736\n",
      "x49        -1.764e+04   5893.867     -2.992      0.003   -2.92e+04   -6084.199\n",
      "x50        -1.136e+04   5131.178     -2.213      0.027   -2.14e+04   -1299.944\n",
      "x51        -6228.6233   8285.468     -0.752      0.452   -2.25e+04       1e+04\n",
      "x52        -1.489e+04   6142.034     -2.424      0.015   -2.69e+04   -2850.004\n",
      "x53        -6625.4776   6860.727     -0.966      0.334   -2.01e+04    6822.191\n",
      "x54         -581.2529   6447.952     -0.090      0.928   -1.32e+04    1.21e+04\n",
      "x55           86.5038   6058.491      0.014      0.989   -1.18e+04     1.2e+04\n",
      "x56        -8581.6966   6666.526     -1.287      0.198   -2.16e+04    4485.319\n",
      "x57        -2.036e+04   8866.643     -2.297      0.022   -3.77e+04   -2984.537\n",
      "x58         2.037e+04   4606.192      4.422      0.000    1.13e+04    2.94e+04\n",
      "x59         1.856e+04   7150.889      2.595      0.009    4543.100    3.26e+04\n",
      "x60         2.619e+04   5153.430      5.082      0.000    1.61e+04    3.63e+04\n",
      "x61        -6500.8074   5263.638     -1.235      0.217   -1.68e+04    3816.417\n",
      "x62         1.281e+04   5856.473      2.188      0.029    1332.017    2.43e+04\n",
      "x63        -6446.3845   4447.109     -1.450      0.147   -1.52e+04    2270.367\n",
      "x64         1.992e+04   4708.797      4.231      0.000    1.07e+04    2.92e+04\n",
      "x65         4.507e+04   4922.210      9.156      0.000    3.54e+04    5.47e+04\n",
      "x66         1.773e+04   6792.468      2.610      0.009    4412.158     3.1e+04\n",
      "x67         8726.9369   5690.382      1.534      0.125   -2426.745    1.99e+04\n",
      "x68         1.306e+04   7711.715      1.693      0.090   -2058.477    2.82e+04\n",
      "x69        -2668.4313   4532.241     -0.589      0.556   -1.16e+04    6215.186\n",
      "x70         2.227e+04   5128.508      4.343      0.000    1.22e+04    3.23e+04\n",
      "x71         1.494e+04   4748.110      3.146      0.002    5632.189    2.42e+04\n",
      "x72        -3804.9911   6809.556     -0.559      0.576   -1.72e+04    9542.378\n",
      "x73        -1737.8035   5536.222     -0.314      0.754   -1.26e+04    9113.712\n",
      "x74        -1.115e+04   8148.159     -1.369      0.171   -2.71e+04    4816.450\n",
      "x75         4056.0132   5444.824      0.745      0.456   -6616.354    1.47e+04\n",
      "x76         9355.8905   4627.338      2.022      0.043     285.873    1.84e+04\n",
      "x77        -9731.9576   5372.490     -1.811      0.070   -2.03e+04     798.627\n",
      "x78        -5869.4721   4584.529     -1.280      0.200   -1.49e+04    3116.634\n",
      "x79        -1.286e+04   8097.038     -1.589      0.112   -2.87e+04    3007.743\n",
      "x80        -1.389e+04   5674.513     -2.448      0.014    -2.5e+04   -2766.926\n",
      "x81        -1.118e+04   4976.500     -2.247      0.025   -2.09e+04   -1428.020\n",
      "x82        -3695.6312   6880.419     -0.537      0.591   -1.72e+04    9790.635\n",
      "x83        -1.509e+04   4535.957     -3.327      0.001    -2.4e+04   -6202.018\n",
      "x84        -1.081e+04   4824.040     -2.241      0.025   -2.03e+04   -1354.793\n",
      "x85        -1.949e+04   6683.853     -2.916      0.004   -3.26e+04   -6386.669\n",
      "x86         1.892e+04   6128.414      3.087      0.002    6905.193    3.09e+04\n",
      "==============================================================================\n",
      "Omnibus:                    17921.292   Durbin-Watson:                   0.170\n",
      "Prob(Omnibus):                  0.000   Jarque-Bera (JB):          3694206.888\n",
      "Skew:                           4.256   Prob(JB):                         0.00\n",
      "Kurtosis:                      71.974   Cond. No.                     5.78e+15\n",
      "==============================================================================\n",
      "\n",
      "Warnings:\n",
      "[1] Standard Errors assume that the covariance matrix of the errors is correctly specified.\n",
      "[2] The smallest eigenvalue is 2.82e-27. This might indicate that there are\n",
      "strong multicollinearity problems or that the design matrix is singular.\n"
     ]
    },
    {
     "name": "stdout",
     "output_type": "stream",
     "text": [
      "0.2                             OLS Regression Results                            \n",
      "==============================================================================\n",
      "Dep. Variable:                      y   R-squared:                       0.259\n",
      "Model:                            OLS   Adj. R-squared:                  0.255\n",
      "Method:                 Least Squares   F-statistic:                     70.55\n",
      "Date:                Wed, 21 Aug 2019   Prob (F-statistic):               0.00\n",
      "Time:                        16:55:33   Log-Likelihood:            -2.5339e+05\n",
      "No. Observations:               17277   AIC:                         5.070e+05\n",
      "Df Residuals:                   17192   BIC:                         5.076e+05\n",
      "Df Model:                          85                                         \n",
      "Covariance Type:            nonrobust                                         \n",
      "==============================================================================\n",
      "                 coef    std err          t      P>|t|      [0.025      0.975]\n",
      "------------------------------------------------------------------------------\n",
      "x1          -2.52e+04   5599.380     -4.501      0.000   -3.62e+04   -1.42e+04\n",
      "x2           1.64e+04   8006.025      2.049      0.041     707.802    3.21e+04\n",
      "x3           1.95e+05   1.09e+04     17.839      0.000    1.74e+05    2.16e+05\n",
      "x4          7697.7733   6326.805      1.217      0.224   -4703.410    2.01e+04\n",
      "x5         -2.295e+04   6674.354     -3.439      0.001    -3.6e+04   -9868.616\n",
      "x6           1.57e+04   4948.108      3.174      0.002    6004.060    2.54e+04\n",
      "x7           6.91e+04   8460.373      8.168      0.000    5.25e+04    8.57e+04\n",
      "x8         -3.264e+04   6236.046     -5.234      0.000   -4.49e+04   -2.04e+04\n",
      "x9         -4.148e+04   1.22e+04     -3.410      0.001   -6.53e+04   -1.76e+04\n",
      "x10         1.994e+04   1.21e+04      1.654      0.098   -3685.683    4.36e+04\n",
      "x11         2.732e+04   3.45e+04      0.792      0.428   -4.03e+04    9.49e+04\n",
      "x12        -2.192e+04   2.53e+04     -0.868      0.386   -7.14e+04    2.76e+04\n",
      "x13         6387.6140   7778.392      0.821      0.412   -8858.827    2.16e+04\n",
      "x14        -3528.2224   6515.868     -0.541      0.588   -1.63e+04    9243.543\n",
      "x15         5.407e+04   4779.030     11.314      0.000    4.47e+04    6.34e+04\n",
      "x16         4.508e+04   5268.021      8.558      0.000    3.48e+04    5.54e+04\n",
      "x17        -1.937e+04   9438.360     -2.052      0.040   -3.79e+04    -871.046\n",
      "x18        -1.038e+04   7365.576     -1.409      0.159   -2.48e+04    4059.374\n",
      "x19        -1.849e+04   8234.836     -2.246      0.025   -3.46e+04   -2351.127\n",
      "x20         7.069e+04   4647.646     15.210      0.000    6.16e+04    7.98e+04\n",
      "x21         9456.9637   4551.765      2.078      0.038     535.041    1.84e+04\n",
      "x22          1.23e+04   4734.973      2.598      0.009    3022.482    2.16e+04\n",
      "x23         4221.2654   4547.194      0.928      0.353   -4691.699    1.31e+04\n",
      "x24         7628.6432   5014.451      1.521      0.128   -2200.192    1.75e+04\n",
      "x25        -2618.3387   6318.954     -0.414      0.679    -1.5e+04    9767.456\n",
      "x26        -9496.8247   6266.510     -1.515      0.130   -2.18e+04    2786.173\n",
      "x27        -4155.1835   7061.809     -0.588      0.556    -1.8e+04    9686.682\n",
      "x28        -8210.9310   7544.734     -1.088      0.276    -2.3e+04    6577.518\n",
      "x29        -1.101e+04   1.04e+04     -1.057      0.291   -3.14e+04    9409.302\n",
      "x30        -2.953e+04   1.13e+04     -2.611      0.009   -5.17e+04   -7359.980\n",
      "x31         1297.1244   5527.423      0.235      0.814   -9537.188    1.21e+04\n",
      "x32         2239.2457   6086.083      0.368      0.713   -9690.097    1.42e+04\n",
      "x33        -1.257e+04   7037.169     -1.786      0.074   -2.64e+04    1223.725\n",
      "x34         6694.5259   6314.679      1.060      0.289   -5682.888    1.91e+04\n",
      "x35        -1.557e+04   6725.418     -2.315      0.021   -2.88e+04   -2386.454\n",
      "x36        -1.519e+04   6115.557     -2.483      0.013   -2.72e+04   -3198.631\n",
      "x37        -1.166e+04   5715.183     -2.040      0.041   -2.29e+04    -456.934\n",
      "x38         2.296e+04   5994.120      3.830      0.000    1.12e+04    3.47e+04\n",
      "x39        -2484.4551   7485.919     -0.332      0.740   -1.72e+04    1.22e+04\n",
      "x40        -1.484e+04   9986.532     -1.486      0.137   -3.44e+04    4737.677\n",
      "x41         5.412e+04   4419.568     12.246      0.000    4.55e+04    6.28e+04\n",
      "x42         3.695e+04   4379.503      8.438      0.000    2.84e+04    4.55e+04\n",
      "x43        -1.972e+04   8987.912     -2.195      0.028   -3.73e+04   -2107.541\n",
      "x44         -807.9313   9375.871     -0.086      0.931   -1.92e+04    1.76e+04\n",
      "x45         4876.8665   7132.868      0.684      0.494   -9104.282    1.89e+04\n",
      "x46         1695.6186   7741.299      0.219      0.827   -1.35e+04    1.69e+04\n",
      "x47        -1.335e+04   5093.623     -2.622      0.009   -2.33e+04   -3369.429\n",
      "x48        -1.006e+04   4640.914     -2.168      0.030   -1.92e+04    -963.944\n",
      "x49        -1.773e+04   6063.134     -2.923      0.003   -2.96e+04   -5840.837\n",
      "x50         -1.13e+04   5296.974     -2.133      0.033   -2.17e+04    -914.812\n",
      "x51        -5887.5982   8494.511     -0.693      0.488   -2.25e+04    1.08e+04\n",
      "x52        -1.456e+04   6352.942     -2.292      0.022    -2.7e+04   -2109.106\n",
      "x53        -6420.5163   7007.240     -0.916      0.360   -2.02e+04    7314.388\n",
      "x54          131.1483   6609.988      0.020      0.984   -1.28e+04    1.31e+04\n",
      "x55          296.8661   6234.071      0.048      0.962   -1.19e+04    1.25e+04\n",
      "x56        -8016.7075   6793.364     -1.180      0.238   -2.13e+04    5298.979\n",
      "x57        -2.055e+04   9098.699     -2.259      0.024   -3.84e+04   -2720.470\n",
      "x58         2.094e+04   4750.218      4.409      0.000    1.16e+04    3.03e+04\n",
      "x59         1.871e+04   7346.159      2.546      0.011    4306.080    3.31e+04\n",
      "x60         2.602e+04   5296.499      4.912      0.000    1.56e+04    3.64e+04\n",
      "x61        -6709.7093   5422.357     -1.237      0.216   -1.73e+04    3918.664\n",
      "x62         1.325e+04   6048.335      2.191      0.028    1396.911    2.51e+04\n",
      "x63        -6625.5159   4574.041     -1.449      0.147   -1.56e+04    2340.070\n",
      "x64         1.971e+04   4840.122      4.072      0.000    1.02e+04    2.92e+04\n",
      "x65         4.547e+04   5067.379      8.973      0.000    3.55e+04    5.54e+04\n",
      "x66          1.79e+04   7007.310      2.555      0.011    4165.167    3.16e+04\n",
      "x67         8599.2369   5818.922      1.478      0.139   -2806.443       2e+04\n",
      "x68         1.303e+04   7920.389      1.645      0.100   -2498.614    2.86e+04\n",
      "x69        -2860.3848   4675.172     -0.612      0.541    -1.2e+04    6303.430\n",
      "x70         2.234e+04   5279.873      4.231      0.000     1.2e+04    3.27e+04\n",
      "x71         1.466e+04   4876.477      3.007      0.003    5103.860    2.42e+04\n",
      "x72        -3484.1371   6986.862     -0.499      0.618   -1.72e+04    1.02e+04\n",
      "x73        -1988.7763   5699.602     -0.349      0.727   -1.32e+04    9183.024\n",
      "x74        -1.108e+04   8452.095     -1.311      0.190   -2.76e+04    5486.428\n",
      "x75         3745.2932   5587.062      0.670      0.503   -7205.919    1.47e+04\n",
      "x76         8552.0595   4765.544      1.795      0.073    -788.894    1.79e+04\n",
      "x77        -1.009e+04   5528.547     -1.824      0.068   -2.09e+04     750.650\n",
      "x78        -5977.1255   4729.688     -1.264      0.206   -1.52e+04    3293.544\n",
      "x79        -1.258e+04   8288.812     -1.517      0.129   -2.88e+04    3671.432\n",
      "x80        -1.356e+04   5858.121     -2.315      0.021    -2.5e+04   -2076.810\n",
      "x81        -1.097e+04   5116.517     -2.144      0.032    -2.1e+04    -943.171\n",
      "x82        -3645.2938   7101.519     -0.513      0.608   -1.76e+04    1.03e+04\n",
      "x83        -1.524e+04   4666.374     -3.266      0.001   -2.44e+04   -6095.527\n",
      "x84         -1.09e+04   4955.208     -2.200      0.028   -2.06e+04   -1187.078\n",
      "x85         -1.97e+04   6868.367     -2.869      0.004   -3.32e+04   -6240.089\n",
      "x86         1.833e+04   6264.185      2.926      0.003    6049.200    3.06e+04\n",
      "==============================================================================\n",
      "Omnibus:                    17267.571   Durbin-Watson:                   0.170\n",
      "Prob(Omnibus):                  0.000   Jarque-Bera (JB):          3846109.222\n",
      "Skew:                           4.412   Prob(JB):                         0.00\n",
      "Kurtosis:                      75.559   Cond. No.                     6.16e+15\n",
      "==============================================================================\n",
      "\n",
      "Warnings:\n",
      "[1] Standard Errors assume that the covariance matrix of the errors is correctly specified.\n",
      "[2] The smallest eigenvalue is 2.34e-27. This might indicate that there are\n",
      "strong multicollinearity problems or that the design matrix is singular.\n"
     ]
    },
    {
     "name": "stdout",
     "output_type": "stream",
     "text": [
      "0.25                             OLS Regression Results                            \n",
      "==============================================================================\n",
      "Dep. Variable:                      y   R-squared:                       0.259\n",
      "Model:                            OLS   Adj. R-squared:                  0.255\n",
      "Method:                 Least Squares   F-statistic:                     66.15\n",
      "Date:                Wed, 21 Aug 2019   Prob (F-statistic):               0.00\n",
      "Time:                        16:55:34   Log-Likelihood:            -2.3758e+05\n",
      "No. Observations:               16197   AIC:                         4.753e+05\n",
      "Df Residuals:                   16112   BIC:                         4.760e+05\n",
      "Df Model:                          85                                         \n",
      "Covariance Type:            nonrobust                                         \n",
      "==============================================================================\n",
      "                 coef    std err          t      P>|t|      [0.025      0.975]\n",
      "------------------------------------------------------------------------------\n",
      "x1         -2.628e+04   5785.389     -4.542      0.000   -3.76e+04   -1.49e+04\n",
      "x2          1.797e+04   8284.802      2.169      0.030    1733.814    3.42e+04\n",
      "x3           1.96e+05   1.13e+04     17.355      0.000    1.74e+05    2.18e+05\n",
      "x4          8109.2362   6515.653      1.245      0.213   -4662.168    2.09e+04\n",
      "x5         -2.431e+04   6900.744     -3.523      0.000   -3.78e+04   -1.08e+04\n",
      "x6           1.56e+04   5123.478      3.044      0.002    5554.287    2.56e+04\n",
      "x7            6.8e+04   8744.240      7.776      0.000    5.09e+04    8.51e+04\n",
      "x8         -3.301e+04   6450.065     -5.118      0.000   -4.57e+04   -2.04e+04\n",
      "x9         -4.183e+04   1.27e+04     -3.296      0.001   -6.67e+04    -1.7e+04\n",
      "x10          2.09e+04   1.26e+04      1.662      0.096   -3745.880    4.56e+04\n",
      "x11         2.971e+04   3.57e+04      0.833      0.405   -4.02e+04    9.96e+04\n",
      "x12        -2.331e+04   2.61e+04     -0.893      0.372   -7.45e+04    2.79e+04\n",
      "x13         6322.3363   8035.277      0.787      0.431   -9427.700    2.21e+04\n",
      "x14        -3530.2981   6716.211     -0.526      0.599   -1.67e+04    9634.222\n",
      "x15          5.54e+04   4952.087     11.187      0.000    4.57e+04    6.51e+04\n",
      "x16         4.508e+04   5451.420      8.269      0.000    3.44e+04    5.58e+04\n",
      "x17        -1.909e+04   9877.291     -1.932      0.053   -3.84e+04     274.298\n",
      "x18        -1.001e+04   7562.571     -1.324      0.186   -2.48e+04    4811.180\n",
      "x19        -1.769e+04   8504.092     -2.080      0.038   -3.44e+04   -1022.397\n",
      "x20         7.142e+04   4817.379     14.826      0.000     6.2e+04    8.09e+04\n",
      "x21         8656.6042   4702.451      1.841      0.066    -560.724    1.79e+04\n",
      "x22         1.286e+04   4909.683      2.619      0.009    3234.102    2.25e+04\n",
      "x23         4144.9816   4702.367      0.881      0.378   -5072.181    1.34e+04\n",
      "x24         7910.3435   5199.126      1.521      0.128   -2280.521    1.81e+04\n",
      "x25        -2237.9426   6565.167     -0.341      0.733   -1.51e+04    1.06e+04\n",
      "x26        -9788.7674   6517.286     -1.502      0.133   -2.26e+04    2985.838\n",
      "x27        -4300.2808   7316.643     -0.588      0.557   -1.86e+04       1e+04\n",
      "x28        -8482.2377   7817.940     -1.085      0.278   -2.38e+04    6841.794\n",
      "x29        -1.041e+04   1.07e+04     -0.971      0.332   -3.14e+04    1.06e+04\n",
      "x30        -2.945e+04   1.17e+04     -2.515      0.012   -5.24e+04   -6501.606\n",
      "x31         1001.2761   5754.464      0.174      0.862   -1.03e+04    1.23e+04\n",
      "x32         2038.9999   6280.521      0.325      0.745   -1.03e+04    1.43e+04\n",
      "x33        -1.296e+04   7177.524     -1.806      0.071    -2.7e+04    1108.161\n",
      "x34         7079.9137   6511.945      1.087      0.277   -5684.223    1.98e+04\n",
      "x35        -1.549e+04   6963.303     -2.224      0.026   -2.91e+04   -1838.214\n",
      "x36        -1.483e+04   6335.431     -2.341      0.019   -2.72e+04   -2411.275\n",
      "x37        -1.163e+04   5911.170     -1.967      0.049   -2.32e+04     -38.516\n",
      "x38         2.291e+04   6247.795      3.667      0.000    1.07e+04    3.52e+04\n",
      "x39        -2898.1678   7769.314     -0.373      0.709   -1.81e+04    1.23e+04\n",
      "x40        -1.405e+04   1.03e+04     -1.362      0.173   -3.43e+04    6172.311\n",
      "x41         5.417e+04   4574.282     11.842      0.000    4.52e+04    6.31e+04\n",
      "x42         3.784e+04   4537.621      8.339      0.000    2.89e+04    4.67e+04\n",
      "x43        -1.953e+04   9333.358     -2.092      0.036   -3.78e+04   -1235.190\n",
      "x44         -163.0325   9673.564     -0.017      0.987   -1.91e+04    1.88e+04\n",
      "x45         4769.1770   7349.285      0.649      0.516   -9636.239    1.92e+04\n",
      "x46         1478.6641   8034.452      0.184      0.854   -1.43e+04    1.72e+04\n",
      "x47        -1.304e+04   5268.684     -2.475      0.013   -2.34e+04   -2715.283\n",
      "x48        -1.003e+04   4801.292     -2.089      0.037   -1.94e+04    -619.292\n",
      "x49        -1.736e+04   6233.928     -2.785      0.005   -2.96e+04   -5139.559\n",
      "x50        -1.075e+04   5468.936     -1.965      0.049   -2.15e+04     -25.887\n",
      "x51        -5630.1756   8756.479     -0.643      0.520   -2.28e+04    1.15e+04\n",
      "x52        -1.516e+04   6604.482     -2.296      0.022   -2.81e+04   -2217.452\n",
      "x53        -6506.3752   7223.372     -0.901      0.368   -2.07e+04    7652.237\n",
      "x54          136.2034   6852.548      0.020      0.984   -1.33e+04    1.36e+04\n",
      "x55          510.3334   6459.709      0.079      0.937   -1.22e+04    1.32e+04\n",
      "x56        -8426.4350   7034.991     -1.198      0.231   -2.22e+04    5362.930\n",
      "x57        -2.026e+04   9459.567     -2.142      0.032   -3.88e+04   -1722.999\n",
      "x58         2.137e+04   4926.916      4.338      0.000    1.17e+04     3.1e+04\n",
      "x59         1.862e+04   7651.110      2.433      0.015    3619.061    3.36e+04\n",
      "x60         2.587e+04   5473.653      4.726      0.000    1.51e+04    3.66e+04\n",
      "x61        -6928.9670   5601.994     -1.237      0.216   -1.79e+04    4051.565\n",
      "x62         1.318e+04   6273.971      2.100      0.036     878.776    2.55e+04\n",
      "x63        -6700.2920   4734.395     -1.415      0.157    -1.6e+04    2579.648\n",
      "x64         1.834e+04   4992.158      3.674      0.000    8557.756    2.81e+04\n",
      "x65         4.349e+04   5226.609      8.321      0.000    3.32e+04    5.37e+04\n",
      "x66         1.759e+04   7266.346      2.421      0.016    3345.703    3.18e+04\n",
      "x67         8469.9128   6012.399      1.409      0.159   -3315.058    2.03e+04\n",
      "x68         1.257e+04   8215.133      1.531      0.126   -3527.967    2.87e+04\n",
      "x69        -2997.6716   4838.829     -0.620      0.536   -1.25e+04    6486.972\n",
      "x70         2.162e+04   5440.255      3.974      0.000     1.1e+04    3.23e+04\n",
      "x71         1.498e+04   5056.267      2.963      0.003    5072.999    2.49e+04\n",
      "x72        -3883.2095   7229.743     -0.537      0.591   -1.81e+04    1.03e+04\n",
      "x73        -2111.3624   5917.333     -0.357      0.721   -1.37e+04    9487.268\n",
      "x74        -1.149e+04   8745.522     -1.314      0.189   -2.86e+04    5647.210\n",
      "x75         3450.7434   5724.158      0.603      0.547   -7769.244    1.47e+04\n",
      "x76         8631.5829   4936.299      1.749      0.080   -1044.112    1.83e+04\n",
      "x77        -1.019e+04   5708.478     -1.784      0.074   -2.14e+04    1003.416\n",
      "x78        -5835.9794   4894.045     -1.192      0.233   -1.54e+04    3756.893\n",
      "x79        -1.278e+04   8503.708     -1.503      0.133   -2.94e+04    3886.558\n",
      "x80        -1.394e+04   6106.396     -2.284      0.022   -2.59e+04   -1975.205\n",
      "x81        -1.094e+04   5247.193     -2.086      0.037   -2.12e+04    -658.457\n",
      "x82        -3961.3866   7357.240     -0.538      0.590   -1.84e+04    1.05e+04\n",
      "x83        -1.508e+04   4826.714     -3.124      0.002   -2.45e+04   -5615.627\n",
      "x84         -1.11e+04   5154.383     -2.154      0.031   -2.12e+04    -998.731\n",
      "x85        -1.988e+04   7070.290     -2.812      0.005   -3.37e+04   -6024.019\n",
      "x86         1.854e+04   6448.491      2.876      0.004    5903.546    3.12e+04\n",
      "==============================================================================\n",
      "Omnibus:                    16279.332   Durbin-Watson:                   0.173\n",
      "Prob(Omnibus):                  0.000   Jarque-Bera (JB):          3643698.115\n",
      "Skew:                           4.455   Prob(JB):                         0.00\n",
      "Kurtosis:                      75.936   Cond. No.                     5.46e+15\n",
      "==============================================================================\n",
      "\n",
      "Warnings:\n",
      "[1] Standard Errors assume that the covariance matrix of the errors is correctly specified.\n",
      "[2] The smallest eigenvalue is 2.79e-27. This might indicate that there are\n",
      "strong multicollinearity problems or that the design matrix is singular.\n"
     ]
    }
   ],
   "source": [
    "\n",
    "x_condition=[col for col in clean_ohe.columns if col not in ['sqft_above','id','date','price']]\n",
    "# x_condition \n",
    "x_value=pd.DataFrame(clean_ohe,columns=x_condition)\n",
    "X=x_value.values \n",
    "y=clean_ohe.iloc[:,2].values.reshape(-1,1)\n",
    "test_size=[0.05,0.1,0.15,0.2,0.25]\n",
    "\n",
    "for i in test_size:\n",
    "    X_train, X_test, y_train, y_test = train_test_split(X, y, test_size = i, random_state = 0)\n",
    "    sc_X = StandardScaler()\n",
    "    X_train = sc_X.fit_transform(X_train)\n",
    "    X_test = sc_X.transform(X_test)\n",
    "\n",
    "    lr=LinearRegression()\n",
    "    lr.fit(X_train,y_train)\n",
    "    y_pred=lr.predict(X_test)\n",
    "    \n",
    "\n",
    "    model = sm.OLS(y_train, X_train).fit()\n",
    "    predictions = model.predict(X_test) \n",
    "    print_model = model.summary()\n",
    "    print(i,print_model)\n",
    "    "
   ]
  },
  {
   "cell_type": "code",
   "execution_count": 141,
   "metadata": {},
   "outputs": [
    {
     "data": {
      "text/plain": [
       "Text(0, 0.5, 'price')"
      ]
     },
     "execution_count": 141,
     "metadata": {},
     "output_type": "execute_result"
    },
    {
     "data": {
      "image/png": "[encoded data removed]",
      "text/plain": [
       "<Figure size 432x288 with 1 Axes>"
      ]
     },
     "metadata": {
      "needs_background": "light"
     },
     "output_type": "display_data"
    }
   ],
   "source": [
    "plt.scatter(clean_ohe['yr_built'],clean_ohe['price'])\n",
    "plt.xlabel('yr_built')\n",
    "plt.ylabel('price')"
   ]
  },
  {
   "cell_type": "code",
   "execution_count": 132,
   "metadata": {},
   "outputs": [
    {
     "data": {
      "text/html": [
       "<div>\n",
       "<style scoped>\n",
       "    .dataframe tbody tr th:only-of-type {\n",
       "        vertical-align: middle;\n",
       "    }\n",
       "\n",
       "    .dataframe tbody tr th {\n",
       "        vertical-align: top;\n",
       "    }\n",
       "\n",
       "    .dataframe thead th {\n",
       "        text-align: right;\n",
       "    }\n",
       "</style>\n",
       "<table border=\"1\" class=\"dataframe\">\n",
       "  <thead>\n",
       "    <tr style=\"text-align: right;\">\n",
       "      <th></th>\n",
       "      <th>waterfront_clean</th>\n",
       "      <th>price</th>\n",
       "    </tr>\n",
       "  </thead>\n",
       "  <tbody>\n",
       "    <tr>\n",
       "      <th>waterfront_clean</th>\n",
       "      <td>1.000000</td>\n",
       "      <td>0.264306</td>\n",
       "    </tr>\n",
       "    <tr>\n",
       "      <th>price</th>\n",
       "      <td>0.264306</td>\n",
       "      <td>1.000000</td>\n",
       "    </tr>\n",
       "  </tbody>\n",
       "</table>\n",
       "</div>"
      ],
      "text/plain": [
       "                  waterfront_clean     price\n",
       "waterfront_clean          1.000000  0.264306\n",
       "price                     0.264306  1.000000"
      ]
     },
     "execution_count": 132,
     "metadata": {},
     "output_type": "execute_result"
    }
   ],
   "source": [
    "clean_ohe[['waterfront_clean','price']].corr()"
   ]
  },
  {
   "cell_type": "code",
   "execution_count": 138,
   "metadata": {},
   "outputs": [],
   "source": [
    "import math\n",
    "\n",
    "clean_ohe['price_log']=np.log(clean_ohe['price'])"
   ]
  },
  {
   "cell_type": "code",
   "execution_count": 140,
   "metadata": {},
   "outputs": [
    {
     "data": {
      "text/html": [
       "<div>\n",
       "<style scoped>\n",
       "    .dataframe tbody tr th:only-of-type {\n",
       "        vertical-align: middle;\n",
       "    }\n",
       "\n",
       "    .dataframe tbody tr th {\n",
       "        vertical-align: top;\n",
       "    }\n",
       "\n",
       "    .dataframe thead th {\n",
       "        text-align: right;\n",
       "    }\n",
       "</style>\n",
       "<table border=\"1\" class=\"dataframe\">\n",
       "  <thead>\n",
       "    <tr style=\"text-align: right;\">\n",
       "      <th></th>\n",
       "      <th>waterfront_clean</th>\n",
       "      <th>price_log</th>\n",
       "    </tr>\n",
       "  </thead>\n",
       "  <tbody>\n",
       "    <tr>\n",
       "      <th>waterfront_clean</th>\n",
       "      <td>1.00000</td>\n",
       "      <td>0.17072</td>\n",
       "    </tr>\n",
       "    <tr>\n",
       "      <th>price_log</th>\n",
       "      <td>0.17072</td>\n",
       "      <td>1.00000</td>\n",
       "    </tr>\n",
       "  </tbody>\n",
       "</table>\n",
       "</div>"
      ],
      "text/plain": [
       "                  waterfront_clean  price_log\n",
       "waterfront_clean           1.00000    0.17072\n",
       "price_log                  0.17072    1.00000"
      ]
     },
     "execution_count": 140,
     "metadata": {},
     "output_type": "execute_result"
    }
   ],
   "source": [
    "clean_ohe[['waterfront_clean','price_log']].corr()"
   ]
  },
  {
   "cell_type": "code",
   "execution_count": 142,
   "metadata": {},
   "outputs": [
    {
     "data": {
      "text/html": [
       "<div>\n",
       "<style scoped>\n",
       "    .dataframe tbody tr th:only-of-type {\n",
       "        vertical-align: middle;\n",
       "    }\n",
       "\n",
       "    .dataframe tbody tr th {\n",
       "        vertical-align: top;\n",
       "    }\n",
       "\n",
       "    .dataframe thead th {\n",
       "        text-align: right;\n",
       "    }\n",
       "</style>\n",
       "<table border=\"1\" class=\"dataframe\">\n",
       "  <thead>\n",
       "    <tr style=\"text-align: right;\">\n",
       "      <th></th>\n",
       "      <th>yr_built</th>\n",
       "    </tr>\n",
       "  </thead>\n",
       "  <tbody>\n",
       "    <tr>\n",
       "      <th>0</th>\n",
       "      <td>1955</td>\n",
       "    </tr>\n",
       "    <tr>\n",
       "      <th>1</th>\n",
       "      <td>1951</td>\n",
       "    </tr>\n",
       "    <tr>\n",
       "      <th>2</th>\n",
       "      <td>1933</td>\n",
       "    </tr>\n",
       "    <tr>\n",
       "      <th>3</th>\n",
       "      <td>1965</td>\n",
       "    </tr>\n",
       "    <tr>\n",
       "      <th>4</th>\n",
       "      <td>1987</td>\n",
       "    </tr>\n",
       "  </tbody>\n",
       "</table>\n",
       "</div>"
      ],
      "text/plain": [
       "   yr_built\n",
       "0      1955\n",
       "1      1951\n",
       "2      1933\n",
       "3      1965\n",
       "4      1987"
      ]
     },
     "execution_count": 142,
     "metadata": {},
     "output_type": "execute_result"
    }
   ],
   "source": [
    "clean_ohe[['yr_built']].head()"
   ]
  },
  {
   "cell_type": "code",
   "execution_count": 144,
   "metadata": {},
   "outputs": [],
   "source": [
    "clean_ohe['age_house']=2019-clean_ohe['yr_built']"
   ]
  },
  {
   "cell_type": "code",
   "execution_count": 146,
   "metadata": {},
   "outputs": [
    {
     "data": {
      "text/html": [
       "<div>\n",
       "<style scoped>\n",
       "    .dataframe tbody tr th:only-of-type {\n",
       "        vertical-align: middle;\n",
       "    }\n",
       "\n",
       "    .dataframe tbody tr th {\n",
       "        vertical-align: top;\n",
       "    }\n",
       "\n",
       "    .dataframe thead th {\n",
       "        text-align: right;\n",
       "    }\n",
       "</style>\n",
       "<table border=\"1\" class=\"dataframe\">\n",
       "  <thead>\n",
       "    <tr style=\"text-align: right;\">\n",
       "      <th></th>\n",
       "      <th>age_house</th>\n",
       "    </tr>\n",
       "  </thead>\n",
       "  <tbody>\n",
       "    <tr>\n",
       "      <th>0</th>\n",
       "      <td>64</td>\n",
       "    </tr>\n",
       "    <tr>\n",
       "      <th>1</th>\n",
       "      <td>68</td>\n",
       "    </tr>\n",
       "    <tr>\n",
       "      <th>2</th>\n",
       "      <td>86</td>\n",
       "    </tr>\n",
       "    <tr>\n",
       "      <th>3</th>\n",
       "      <td>54</td>\n",
       "    </tr>\n",
       "    <tr>\n",
       "      <th>4</th>\n",
       "      <td>32</td>\n",
       "    </tr>\n",
       "  </tbody>\n",
       "</table>\n",
       "</div>"
      ],
      "text/plain": [
       "   age_house\n",
       "0         64\n",
       "1         68\n",
       "2         86\n",
       "3         54\n",
       "4         32"
      ]
     },
     "execution_count": 146,
     "metadata": {},
     "output_type": "execute_result"
    }
   ],
   "source": [
    "clean_ohe[['age_house']].head()"
   ]
  },
  {
   "cell_type": "code",
   "execution_count": 147,
   "metadata": {},
   "outputs": [
    {
     "data": {
      "text/plain": [
       "Text(0, 0.5, 'price')"
      ]
     },
     "execution_count": 147,
     "metadata": {},
     "output_type": "execute_result"
    },
    {
     "data": {
      "image/png": "[encoded data removed]",
      "text/plain": [
       "<Figure size 432x288 with 1 Axes>"
      ]
     },
     "metadata": {
      "needs_background": "light"
     },
     "output_type": "display_data"
    }
   ],
   "source": [
    "plt.scatter(clean_ohe['age_house'],clean_ohe['price'])\n",
    "plt.xlabel('age_house')\n",
    "plt.ylabel('price')"
   ]
  },
  {
   "cell_type": "code",
   "execution_count": 148,
   "metadata": {},
   "outputs": [],
   "source": [
    "clean_ohe['age_house_log']=np.log(clean_ohe['age_house'])"
   ]
  },
  {
   "cell_type": "code",
   "execution_count": 151,
   "metadata": {},
   "outputs": [
    {
     "data": {
      "text/html": [
       "<div>\n",
       "<style scoped>\n",
       "    .dataframe tbody tr th:only-of-type {\n",
       "        vertical-align: middle;\n",
       "    }\n",
       "\n",
       "    .dataframe tbody tr th {\n",
       "        vertical-align: top;\n",
       "    }\n",
       "\n",
       "    .dataframe thead th {\n",
       "        text-align: right;\n",
       "    }\n",
       "</style>\n",
       "<table border=\"1\" class=\"dataframe\">\n",
       "  <thead>\n",
       "    <tr style=\"text-align: right;\">\n",
       "      <th></th>\n",
       "      <th>age_house</th>\n",
       "      <th>price_log</th>\n",
       "    </tr>\n",
       "  </thead>\n",
       "  <tbody>\n",
       "    <tr>\n",
       "      <th>age_house</th>\n",
       "      <td>1.000000</td>\n",
       "      <td>-0.080583</td>\n",
       "    </tr>\n",
       "    <tr>\n",
       "      <th>price_log</th>\n",
       "      <td>-0.080583</td>\n",
       "      <td>1.000000</td>\n",
       "    </tr>\n",
       "  </tbody>\n",
       "</table>\n",
       "</div>"
      ],
      "text/plain": [
       "           age_house  price_log\n",
       "age_house   1.000000  -0.080583\n",
       "price_log  -0.080583   1.000000"
      ]
     },
     "execution_count": 151,
     "metadata": {},
     "output_type": "execute_result"
    }
   ],
   "source": [
    "clean_ohe[['age_house','price_log']].corr()"
   ]
  },
  {
   "cell_type": "code",
   "execution_count": 152,
   "metadata": {},
   "outputs": [
    {
     "data": {
      "text/plain": [
       "Text(0, 0.5, 'price_log')"
      ]
     },
     "execution_count": 152,
     "metadata": {},
     "output_type": "execute_result"
    },
    {
     "data": {
      "image/png": "[encoded data removed]",
      "text/plain": [
       "<Figure size 432x288 with 1 Axes>"
      ]
     },
     "metadata": {
      "needs_background": "light"
     },
     "output_type": "display_data"
    }
   ],
   "source": [
    "plt.scatter(clean_ohe['age_house'],clean_ohe['price'])\n",
    "plt.xlabel('age_house')\n",
    "plt.ylabel('price_log')"
   ]
  },
  {
   "cell_type": "code",
   "execution_count": 155,
   "metadata": {},
   "outputs": [
    {
     "data": {
      "text/html": [
       "<div>\n",
       "<style scoped>\n",
       "    .dataframe tbody tr th:only-of-type {\n",
       "        vertical-align: middle;\n",
       "    }\n",
       "\n",
       "    .dataframe tbody tr th {\n",
       "        vertical-align: top;\n",
       "    }\n",
       "\n",
       "    .dataframe thead th {\n",
       "        text-align: right;\n",
       "    }\n",
       "</style>\n",
       "<table border=\"1\" class=\"dataframe\">\n",
       "  <thead>\n",
       "    <tr style=\"text-align: right;\">\n",
       "      <th></th>\n",
       "      <th>yr_renovated</th>\n",
       "      <th>price</th>\n",
       "      <th>price_log</th>\n",
       "    </tr>\n",
       "  </thead>\n",
       "  <tbody>\n",
       "    <tr>\n",
       "      <th>yr_renovated</th>\n",
       "      <td>1.000000</td>\n",
       "      <td>0.097541</td>\n",
       "      <td>0.122027</td>\n",
       "    </tr>\n",
       "    <tr>\n",
       "      <th>price</th>\n",
       "      <td>0.097541</td>\n",
       "      <td>1.000000</td>\n",
       "      <td>0.891745</td>\n",
       "    </tr>\n",
       "    <tr>\n",
       "      <th>price_log</th>\n",
       "      <td>0.122027</td>\n",
       "      <td>0.891745</td>\n",
       "      <td>1.000000</td>\n",
       "    </tr>\n",
       "  </tbody>\n",
       "</table>\n",
       "</div>"
      ],
      "text/plain": [
       "              yr_renovated     price  price_log\n",
       "yr_renovated      1.000000  0.097541   0.122027\n",
       "price             0.097541  1.000000   0.891745\n",
       "price_log         0.122027  0.891745   1.000000"
      ]
     },
     "execution_count": 155,
     "metadata": {},
     "output_type": "execute_result"
    }
   ],
   "source": [
    "clean_ohe[['yr_renovated']].head()\n",
    "clean_ohe[['yr_renovated','price','price_log']].corr()"
   ]
  },
  {
   "cell_type": "code",
   "execution_count": 157,
   "metadata": {},
   "outputs": [],
   "source": [
    "clean_ohe['age_renovated']=2019-clean['yr_renovated']"
   ]
  },
  {
   "cell_type": "code",
   "execution_count": 158,
   "metadata": {},
   "outputs": [
    {
     "data": {
      "text/html": [
       "<div>\n",
       "<style scoped>\n",
       "    .dataframe tbody tr th:only-of-type {\n",
       "        vertical-align: middle;\n",
       "    }\n",
       "\n",
       "    .dataframe tbody tr th {\n",
       "        vertical-align: top;\n",
       "    }\n",
       "\n",
       "    .dataframe thead th {\n",
       "        text-align: right;\n",
       "    }\n",
       "</style>\n",
       "<table border=\"1\" class=\"dataframe\">\n",
       "  <thead>\n",
       "    <tr style=\"text-align: right;\">\n",
       "      <th></th>\n",
       "      <th>age_renovated</th>\n",
       "      <th>price</th>\n",
       "      <th>price_log</th>\n",
       "    </tr>\n",
       "  </thead>\n",
       "  <tbody>\n",
       "    <tr>\n",
       "      <th>age_renovated</th>\n",
       "      <td>1.000000</td>\n",
       "      <td>-0.097541</td>\n",
       "      <td>-0.122027</td>\n",
       "    </tr>\n",
       "    <tr>\n",
       "      <th>price</th>\n",
       "      <td>-0.097541</td>\n",
       "      <td>1.000000</td>\n",
       "      <td>0.891745</td>\n",
       "    </tr>\n",
       "    <tr>\n",
       "      <th>price_log</th>\n",
       "      <td>-0.122027</td>\n",
       "      <td>0.891745</td>\n",
       "      <td>1.000000</td>\n",
       "    </tr>\n",
       "  </tbody>\n",
       "</table>\n",
       "</div>"
      ],
      "text/plain": [
       "               age_renovated     price  price_log\n",
       "age_renovated       1.000000 -0.097541  -0.122027\n",
       "price              -0.097541  1.000000   0.891745\n",
       "price_log          -0.122027  0.891745   1.000000"
      ]
     },
     "execution_count": 158,
     "metadata": {},
     "output_type": "execute_result"
    }
   ],
   "source": [
    "clean_ohe[['age_renovated','price','price_log']].corr()"
   ]
  },
  {
   "cell_type": "code",
   "execution_count": 159,
   "metadata": {},
   "outputs": [
    {
     "data": {
      "text/html": [
       "<div>\n",
       "<style scoped>\n",
       "    .dataframe tbody tr th:only-of-type {\n",
       "        vertical-align: middle;\n",
       "    }\n",
       "\n",
       "    .dataframe tbody tr th {\n",
       "        vertical-align: top;\n",
       "    }\n",
       "\n",
       "    .dataframe thead th {\n",
       "        text-align: right;\n",
       "    }\n",
       "</style>\n",
       "<table border=\"1\" class=\"dataframe\">\n",
       "  <thead>\n",
       "    <tr style=\"text-align: right;\">\n",
       "      <th></th>\n",
       "      <th>view_clean</th>\n",
       "      <th>price</th>\n",
       "      <th>price_log</th>\n",
       "    </tr>\n",
       "  </thead>\n",
       "  <tbody>\n",
       "    <tr>\n",
       "      <th>view_clean</th>\n",
       "      <td>1.000000</td>\n",
       "      <td>0.393497</td>\n",
       "      <td>0.344653</td>\n",
       "    </tr>\n",
       "    <tr>\n",
       "      <th>price</th>\n",
       "      <td>0.393497</td>\n",
       "      <td>1.000000</td>\n",
       "      <td>0.891745</td>\n",
       "    </tr>\n",
       "    <tr>\n",
       "      <th>price_log</th>\n",
       "      <td>0.344653</td>\n",
       "      <td>0.891745</td>\n",
       "      <td>1.000000</td>\n",
       "    </tr>\n",
       "  </tbody>\n",
       "</table>\n",
       "</div>"
      ],
      "text/plain": [
       "            view_clean     price  price_log\n",
       "view_clean    1.000000  0.393497   0.344653\n",
       "price         0.393497  1.000000   0.891745\n",
       "price_log     0.344653  0.891745   1.000000"
      ]
     },
     "execution_count": 159,
     "metadata": {},
     "output_type": "execute_result"
    }
   ],
   "source": [
    "clean_ohe[['view_clean','price','price_log']].corr()"
   ]
  },
  {
   "cell_type": "code",
   "execution_count": 166,
   "metadata": {},
   "outputs": [
    {
     "data": {
      "text/plain": [
       "Text(0, 0.5, 'price')"
      ]
     },
     "execution_count": 166,
     "metadata": {},
     "output_type": "execute_result"
    },
    {
     "data": {
      "image/png": "[encoded data removed]",
      "text/plain": [
       "<Figure size 432x288 with 1 Axes>"
      ]
     },
     "metadata": {
      "needs_background": "light"
     },
     "output_type": "display_data"
    }
   ],
   "source": [
    "plt.scatter(clean_ohe['view_clean'],clean_ohe['price'])\n",
    "plt.xlabel('view')\n",
    "plt.xlim(-0.1,0.1)\n",
    "plt.ylabel('price')"
   ]
  },
  {
   "cell_type": "code",
   "execution_count": 162,
   "metadata": {},
   "outputs": [
    {
     "data": {
      "text/plain": [
       "Index(['id', 'date', 'price', 'bedrooms', 'bathrooms', 'sqft_living',\n",
       "       'sqft_lot', 'floors', 'condition', 'grade', 'sqft_above',\n",
       "       'sqft_basement', 'yr_built', 'yr_renovated', 'lat', 'long',\n",
       "       'sqft_living15', 'sqft_lot15', 'waterfront_clean', 'view_clean',\n",
       "       'zipcode_98001', 'zipcode_98002', 'zipcode_98003', 'zipcode_98004',\n",
       "       'zipcode_98005', 'zipcode_98006', 'zipcode_98007', 'zipcode_98008',\n",
       "       'zipcode_98010', 'zipcode_98011', 'zipcode_98014', 'zipcode_98019',\n",
       "       'zipcode_98022', 'zipcode_98023', 'zipcode_98024', 'zipcode_98027',\n",
       "       'zipcode_98028', 'zipcode_98029', 'zipcode_98030', 'zipcode_98031',\n",
       "       'zipcode_98032', 'zipcode_98033', 'zipcode_98034', 'zipcode_98038',\n",
       "       'zipcode_98039', 'zipcode_98040', 'zipcode_98042', 'zipcode_98045',\n",
       "       'zipcode_98052', 'zipcode_98053', 'zipcode_98055', 'zipcode_98056',\n",
       "       'zipcode_98058', 'zipcode_98059', 'zipcode_98065', 'zipcode_98070',\n",
       "       'zipcode_98072', 'zipcode_98074', 'zipcode_98075', 'zipcode_98077',\n",
       "       'zipcode_98092', 'zipcode_98102', 'zipcode_98103', 'zipcode_98105',\n",
       "       'zipcode_98106', 'zipcode_98107', 'zipcode_98108', 'zipcode_98109',\n",
       "       'zipcode_98112', 'zipcode_98115', 'zipcode_98116', 'zipcode_98117',\n",
       "       'zipcode_98118', 'zipcode_98119', 'zipcode_98122', 'zipcode_98125',\n",
       "       'zipcode_98126', 'zipcode_98133', 'zipcode_98136', 'zipcode_98144',\n",
       "       'zipcode_98146', 'zipcode_98148', 'zipcode_98155', 'zipcode_98166',\n",
       "       'zipcode_98168', 'zipcode_98177', 'zipcode_98178', 'zipcode_98188',\n",
       "       'zipcode_98198', 'zipcode_98199', 'waterfront_clean_log', 'price_log',\n",
       "       'age_house', 'age_house_log', 'age_renovated'],\n",
       "      dtype='object')"
      ]
     },
     "execution_count": 162,
     "metadata": {},
     "output_type": "execute_result"
    }
   ],
   "source": [
    "for i in "
   ]
  },
  {
   "cell_type": "code",
   "execution_count": null,
   "metadata": {},
   "outputs": [],
   "source": []
  },
  {
   "cell_type": "code",
   "execution_count": null,
   "metadata": {},
   "outputs": [],
   "source": []
  }
 ],
 "metadata": {
  "kernelspec": {
   "display_name": "Python [conda env:learn-env] *",
   "language": "python",
   "name": "conda-env-learn-env-py"
  },
  "language_info": {
   "codemirror_mode": {
    "name": "ipython",
    "version": 3
   },
   "file_extension": ".py",
   "mimetype": "text/x-python",
   "name": "python",
   "nbconvert_exporter": "python",
   "pygments_lexer": "ipython3",
   "version": "3.6.6"
  }
 },
 "nbformat": 4,
 "nbformat_minor": 2
}
